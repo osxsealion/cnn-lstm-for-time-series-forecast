{
 "cells": [
  {
   "cell_type": "code",
   "execution_count": 2,
   "metadata": {},
   "outputs": [
    {
     "name": "stdout",
     "output_type": "stream",
     "text": [
      "       time  channel: 1  channel: 2  channel: 3\n",
      "0  0.000000   -0.738737   -0.298374   -0.948410\n",
      "1  0.044721   -0.808222   -0.379338   -1.026828\n",
      "2  0.089443   -0.937519   -0.169406   -0.713158\n",
      "3  0.134164   -1.136301   -0.393670   -0.924332\n",
      "4  0.178885   -0.542336   -0.318448   -1.123421\n"
     ]
    }
   ],
   "source": [
    "import pandas as pd\n",
    "\n",
    "# Replace 'your_file.csv' with the path to your CSV file\n",
    "df = pd.read_csv('none-3623.csv')\n",
    "\n",
    "# Display the first few rows\n",
    "print(df.head())\n"
   ]
  },
  {
   "cell_type": "code",
   "execution_count": 3,
   "metadata": {},
   "outputs": [
    {
     "name": "stdout",
     "output_type": "stream",
     "text": [
      "       time      ch.1      ch.2      ch.3\n",
      "0  0.000000 -0.738737 -0.298374 -0.948410\n",
      "1  0.044721 -0.808222 -0.379338 -1.026828\n",
      "2  0.089443 -0.937519 -0.169406 -0.713158\n",
      "3  0.134164 -1.136301 -0.393670 -0.924332\n",
      "4  0.178885 -0.542336 -0.318448 -1.123421\n"
     ]
    }
   ],
   "source": [
    "df = df.rename(columns={\n",
    "    'DL(+)3.623m': 'time',\n",
    "    'channel: 1': 'ch.1',\n",
    "    'channel: 2': 'ch.2',\n",
    "    'channel: 3': 'ch.3'\n",
    "})\n",
    "\n",
    "print(df.head())"
   ]
  },
  {
   "cell_type": "code",
   "execution_count": 4,
   "metadata": {},
   "outputs": [
    {
     "name": "stdout",
     "output_type": "stream",
     "text": [
      "Index(['time', 'ch.1', 'ch.2', 'ch.3'], dtype='object')\n"
     ]
    }
   ],
   "source": [
    "df = df.rename(columns=str.lower)\n",
    "\n",
    "print(df.columns)\n"
   ]
  },
  {
   "cell_type": "code",
   "execution_count": 5,
   "metadata": {},
   "outputs": [
    {
     "data": {
      "text/html": [
       "<div>\n",
       "<style scoped>\n",
       "    .dataframe tbody tr th:only-of-type {\n",
       "        vertical-align: middle;\n",
       "    }\n",
       "\n",
       "    .dataframe tbody tr th {\n",
       "        vertical-align: top;\n",
       "    }\n",
       "\n",
       "    .dataframe thead th {\n",
       "        text-align: right;\n",
       "    }\n",
       "</style>\n",
       "<table border=\"1\" class=\"dataframe\">\n",
       "  <thead>\n",
       "    <tr style=\"text-align: right;\">\n",
       "      <th></th>\n",
       "      <th>time</th>\n",
       "      <th>ch.1</th>\n",
       "      <th>ch.2</th>\n",
       "      <th>ch.3</th>\n",
       "    </tr>\n",
       "  </thead>\n",
       "  <tbody>\n",
       "    <tr>\n",
       "      <th>0</th>\n",
       "      <td>0.000000</td>\n",
       "      <td>-0.738737</td>\n",
       "      <td>-0.298374</td>\n",
       "      <td>-0.948410</td>\n",
       "    </tr>\n",
       "    <tr>\n",
       "      <th>1</th>\n",
       "      <td>0.044721</td>\n",
       "      <td>-0.808222</td>\n",
       "      <td>-0.379338</td>\n",
       "      <td>-1.026828</td>\n",
       "    </tr>\n",
       "    <tr>\n",
       "      <th>2</th>\n",
       "      <td>0.089443</td>\n",
       "      <td>-0.937519</td>\n",
       "      <td>-0.169406</td>\n",
       "      <td>-0.713158</td>\n",
       "    </tr>\n",
       "    <tr>\n",
       "      <th>3</th>\n",
       "      <td>0.134164</td>\n",
       "      <td>-1.136301</td>\n",
       "      <td>-0.393670</td>\n",
       "      <td>-0.924332</td>\n",
       "    </tr>\n",
       "    <tr>\n",
       "      <th>4</th>\n",
       "      <td>0.178885</td>\n",
       "      <td>-0.542336</td>\n",
       "      <td>-0.318448</td>\n",
       "      <td>-1.123421</td>\n",
       "    </tr>\n",
       "  </tbody>\n",
       "</table>\n",
       "</div>"
      ],
      "text/plain": [
       "       time      ch.1      ch.2      ch.3\n",
       "0  0.000000 -0.738737 -0.298374 -0.948410\n",
       "1  0.044721 -0.808222 -0.379338 -1.026828\n",
       "2  0.089443 -0.937519 -0.169406 -0.713158\n",
       "3  0.134164 -1.136301 -0.393670 -0.924332\n",
       "4  0.178885 -0.542336 -0.318448 -1.123421"
      ]
     },
     "execution_count": 5,
     "metadata": {},
     "output_type": "execute_result"
    }
   ],
   "source": [
    "df.head()"
   ]
  },
  {
   "cell_type": "code",
   "execution_count": 6,
   "metadata": {},
   "outputs": [],
   "source": [
    "df.to_csv('none-3623.csv', index=False)"
   ]
  },
  {
   "cell_type": "code",
   "execution_count": 1,
   "metadata": {},
   "outputs": [
    {
     "name": "stdout",
     "output_type": "stream",
     "text": [
      "       time      ch.1      ch.2      ch.3\n",
      "0  0.000000 -0.424945 -0.524852  0.415259\n",
      "1  0.044721  0.099924 -0.182229  0.587047\n",
      "2  0.089443 -0.610742 -0.867476  0.398076\n",
      "3  0.134164  0.085987  0.458868  0.060192\n",
      "4  0.178885 -0.359935 -0.723835  0.335074\n"
     ]
    }
   ],
   "source": [
    "# import pandas as pd\n",
    "\n",
    "# # Replace 'your_file.csv' with the path to your CSV file\n",
    "# df = pd.read_csv('013-3623.csv', nrows=100)\n",
    "\n",
    "# # Display the first few rows\n",
    "# print(df.head())\n",
    "\n",
    "# df.to_csv('013-3623-truncated.csv', index=False)"
   ]
  }
 ],
 "metadata": {
  "kernelspec": {
   "display_name": "datasci-python312",
   "language": "python",
   "name": "python3"
  },
  "language_info": {
   "codemirror_mode": {
    "name": "ipython",
    "version": 3
   },
   "file_extension": ".py",
   "mimetype": "text/x-python",
   "name": "python",
   "nbconvert_exporter": "python",
   "pygments_lexer": "ipython3",
   "version": "3.9.20"
  }
 },
 "nbformat": 4,
 "nbformat_minor": 2
}
