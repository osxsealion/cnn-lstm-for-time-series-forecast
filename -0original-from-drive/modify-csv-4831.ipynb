{
 "cells": [
  {
   "cell_type": "code",
   "execution_count": 28,
   "metadata": {},
   "outputs": [
    {
     "name": "stdout",
     "output_type": "stream",
     "text": [
      "   dl(+)4.831m  channel: 1  channel: 2  channel: 3\n",
      "0     0.000000   -1.210622   -0.359998   -1.259082\n",
      "1     0.044721   -0.851296   -0.304116   -1.090161\n",
      "2     0.089443   -0.959094   -0.218856   -1.443087\n",
      "3     0.134164   -1.007004   -0.147195   -0.885077\n",
      "4     0.178885   -0.942355   -0.266126   -0.815747\n"
     ]
    }
   ],
   "source": [
    "import pandas as pd\n",
    "\n",
    "# Replace 'your_file.csv' with the path to your CSV file\n",
    "df = pd.read_csv('none-4831.csv')\n",
    "\n",
    "# Display the first few rows\n",
    "print(df.head())\n"
   ]
  },
  {
   "cell_type": "code",
   "execution_count": 29,
   "metadata": {},
   "outputs": [
    {
     "name": "stdout",
     "output_type": "stream",
     "text": [
      "       time      ch.1      ch.2      ch.3\n",
      "0  0.000000 -1.210622 -0.359998 -1.259082\n",
      "1  0.044721 -0.851296 -0.304116 -1.090161\n",
      "2  0.089443 -0.959094 -0.218856 -1.443087\n",
      "3  0.134164 -1.007004 -0.147195 -0.885077\n",
      "4  0.178885 -0.942355 -0.266126 -0.815747\n"
     ]
    }
   ],
   "source": [
    "df = df.rename(columns={\n",
    "    'dl(+)4.831m': 'time',\n",
    "    'channel: 1': 'ch.1',\n",
    "    'channel: 2': 'ch.2',\n",
    "    'channel: 3': 'ch.3'\n",
    "})\n",
    "\n",
    "print(df.head())"
   ]
  },
  {
   "cell_type": "code",
   "execution_count": 37,
   "metadata": {},
   "outputs": [
    {
     "name": "stdout",
     "output_type": "stream",
     "text": [
      "Index(['time', 'unnamed: 1', 'unnamed: 2', 'unnamed: 3'], dtype='object')\n"
     ]
    }
   ],
   "source": [
    "df = df.rename(columns=str.lower)\n",
    "\n",
    "print(df.columns)\n"
   ]
  },
  {
   "cell_type": "code",
   "execution_count": 30,
   "metadata": {},
   "outputs": [
    {
     "data": {
      "text/html": [
       "<div>\n",
       "<style scoped>\n",
       "    .dataframe tbody tr th:only-of-type {\n",
       "        vertical-align: middle;\n",
       "    }\n",
       "\n",
       "    .dataframe tbody tr th {\n",
       "        vertical-align: top;\n",
       "    }\n",
       "\n",
       "    .dataframe thead th {\n",
       "        text-align: right;\n",
       "    }\n",
       "</style>\n",
       "<table border=\"1\" class=\"dataframe\">\n",
       "  <thead>\n",
       "    <tr style=\"text-align: right;\">\n",
       "      <th></th>\n",
       "      <th>time</th>\n",
       "      <th>ch.1</th>\n",
       "      <th>ch.2</th>\n",
       "      <th>ch.3</th>\n",
       "    </tr>\n",
       "  </thead>\n",
       "  <tbody>\n",
       "    <tr>\n",
       "      <th>0</th>\n",
       "      <td>0.000000</td>\n",
       "      <td>-1.210622</td>\n",
       "      <td>-0.359998</td>\n",
       "      <td>-1.259082</td>\n",
       "    </tr>\n",
       "    <tr>\n",
       "      <th>1</th>\n",
       "      <td>0.044721</td>\n",
       "      <td>-0.851296</td>\n",
       "      <td>-0.304116</td>\n",
       "      <td>-1.090161</td>\n",
       "    </tr>\n",
       "    <tr>\n",
       "      <th>2</th>\n",
       "      <td>0.089443</td>\n",
       "      <td>-0.959094</td>\n",
       "      <td>-0.218856</td>\n",
       "      <td>-1.443087</td>\n",
       "    </tr>\n",
       "    <tr>\n",
       "      <th>3</th>\n",
       "      <td>0.134164</td>\n",
       "      <td>-1.007004</td>\n",
       "      <td>-0.147195</td>\n",
       "      <td>-0.885077</td>\n",
       "    </tr>\n",
       "    <tr>\n",
       "      <th>4</th>\n",
       "      <td>0.178885</td>\n",
       "      <td>-0.942355</td>\n",
       "      <td>-0.266126</td>\n",
       "      <td>-0.815747</td>\n",
       "    </tr>\n",
       "  </tbody>\n",
       "</table>\n",
       "</div>"
      ],
      "text/plain": [
       "       time      ch.1      ch.2      ch.3\n",
       "0  0.000000 -1.210622 -0.359998 -1.259082\n",
       "1  0.044721 -0.851296 -0.304116 -1.090161\n",
       "2  0.089443 -0.959094 -0.218856 -1.443087\n",
       "3  0.134164 -1.007004 -0.147195 -0.885077\n",
       "4  0.178885 -0.942355 -0.266126 -0.815747"
      ]
     },
     "execution_count": 30,
     "metadata": {},
     "output_type": "execute_result"
    }
   ],
   "source": [
    "df.head()"
   ]
  },
  {
   "cell_type": "code",
   "execution_count": 31,
   "metadata": {},
   "outputs": [],
   "source": [
    "df.to_csv('none-4831.csv', index=False)"
   ]
  }
 ],
 "metadata": {
  "kernelspec": {
   "display_name": "datasci-python312",
   "language": "python",
   "name": "python3"
  },
  "language_info": {
   "codemirror_mode": {
    "name": "ipython",
    "version": 3
   },
   "file_extension": ".py",
   "mimetype": "text/x-python",
   "name": "python",
   "nbconvert_exporter": "python",
   "pygments_lexer": "ipython3",
   "version": "3.9.20"
  }
 },
 "nbformat": 4,
 "nbformat_minor": 2
}
