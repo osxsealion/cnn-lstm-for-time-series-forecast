{
 "cells": [
  {
   "cell_type": "code",
   "execution_count": 1,
   "metadata": {},
   "outputs": [],
   "source": [
    "import pandas as pd\n",
    "raw_data = pd.read_excel('/Users/vinny/Downloads/Shared Files from Google Drive/수압 filter mat x.xlsx', skiprows=1)"
   ]
  },
  {
   "cell_type": "code",
   "execution_count": 2,
   "metadata": {},
   "outputs": [],
   "source": [
    "df = raw_data"
   ]
  },
  {
   "cell_type": "code",
   "execution_count": 3,
   "metadata": {},
   "outputs": [
    {
     "data": {
      "text/html": [
       "<div>\n",
       "<style scoped>\n",
       "    .dataframe tbody tr th:only-of-type {\n",
       "        vertical-align: middle;\n",
       "    }\n",
       "\n",
       "    .dataframe tbody tr th {\n",
       "        vertical-align: top;\n",
       "    }\n",
       "\n",
       "    .dataframe thead th {\n",
       "        text-align: right;\n",
       "    }\n",
       "</style>\n",
       "<table border=\"1\" class=\"dataframe\">\n",
       "  <thead>\n",
       "    <tr style=\"text-align: right;\">\n",
       "      <th></th>\n",
       "      <th>DL(+)3.623m</th>\n",
       "      <th>Unnamed: 1</th>\n",
       "      <th>Unnamed: 2</th>\n",
       "      <th>Unnamed: 3</th>\n",
       "      <th>DL(+)4.831m</th>\n",
       "      <th>Unnamed: 5</th>\n",
       "      <th>Unnamed: 6</th>\n",
       "      <th>Unnamed: 7</th>\n",
       "    </tr>\n",
       "  </thead>\n",
       "  <tbody>\n",
       "    <tr>\n",
       "      <th>0</th>\n",
       "      <td>time</td>\n",
       "      <td>ch.1</td>\n",
       "      <td>ch.2</td>\n",
       "      <td>ch.3</td>\n",
       "      <td>NaN</td>\n",
       "      <td>ch.1</td>\n",
       "      <td>ch.2</td>\n",
       "      <td>ch.3</td>\n",
       "    </tr>\n",
       "    <tr>\n",
       "      <th>1</th>\n",
       "      <td>0</td>\n",
       "      <td>-0.738737</td>\n",
       "      <td>-0.298374</td>\n",
       "      <td>-0.94841</td>\n",
       "      <td>0.000000</td>\n",
       "      <td>-1.210622</td>\n",
       "      <td>-0.359998</td>\n",
       "      <td>-1.259082</td>\n",
       "    </tr>\n",
       "    <tr>\n",
       "      <th>2</th>\n",
       "      <td>0.044721</td>\n",
       "      <td>-0.808222</td>\n",
       "      <td>-0.379338</td>\n",
       "      <td>-1.026828</td>\n",
       "      <td>0.044721</td>\n",
       "      <td>-0.851296</td>\n",
       "      <td>-0.304116</td>\n",
       "      <td>-1.090161</td>\n",
       "    </tr>\n",
       "    <tr>\n",
       "      <th>3</th>\n",
       "      <td>0.089443</td>\n",
       "      <td>-0.937519</td>\n",
       "      <td>-0.169406</td>\n",
       "      <td>-0.713158</td>\n",
       "      <td>0.089443</td>\n",
       "      <td>-0.959094</td>\n",
       "      <td>-0.218856</td>\n",
       "      <td>-1.443087</td>\n",
       "    </tr>\n",
       "    <tr>\n",
       "      <th>4</th>\n",
       "      <td>0.134164</td>\n",
       "      <td>-1.136301</td>\n",
       "      <td>-0.39367</td>\n",
       "      <td>-0.924332</td>\n",
       "      <td>0.134164</td>\n",
       "      <td>-1.007004</td>\n",
       "      <td>-0.147195</td>\n",
       "      <td>-0.885077</td>\n",
       "    </tr>\n",
       "    <tr>\n",
       "      <th>...</th>\n",
       "      <td>...</td>\n",
       "      <td>...</td>\n",
       "      <td>...</td>\n",
       "      <td>...</td>\n",
       "      <td>...</td>\n",
       "      <td>...</td>\n",
       "      <td>...</td>\n",
       "      <td>...</td>\n",
       "    </tr>\n",
       "    <tr>\n",
       "      <th>300296</th>\n",
       "      <td>13429.600663</td>\n",
       "      <td>25.729856</td>\n",
       "      <td>20.627046</td>\n",
       "      <td>13.505691</td>\n",
       "      <td>NaN</td>\n",
       "      <td>NaN</td>\n",
       "      <td>NaN</td>\n",
       "      <td>NaN</td>\n",
       "    </tr>\n",
       "    <tr>\n",
       "      <th>300297</th>\n",
       "      <td>13429.645384</td>\n",
       "      <td>25.732237</td>\n",
       "      <td>20.804752</td>\n",
       "      <td>13.740943</td>\n",
       "      <td>NaN</td>\n",
       "      <td>NaN</td>\n",
       "      <td>NaN</td>\n",
       "      <td>NaN</td>\n",
       "    </tr>\n",
       "    <tr>\n",
       "      <th>300298</th>\n",
       "      <td>13429.690105</td>\n",
       "      <td>25.875967</td>\n",
       "      <td>20.608418</td>\n",
       "      <td>14.003365</td>\n",
       "      <td>NaN</td>\n",
       "      <td>NaN</td>\n",
       "      <td>NaN</td>\n",
       "      <td>NaN</td>\n",
       "    </tr>\n",
       "    <tr>\n",
       "      <th>300299</th>\n",
       "      <td>13429.734827</td>\n",
       "      <td>25.6077</td>\n",
       "      <td>20.824092</td>\n",
       "      <td>13.94303</td>\n",
       "      <td>NaN</td>\n",
       "      <td>NaN</td>\n",
       "      <td>NaN</td>\n",
       "      <td>NaN</td>\n",
       "    </tr>\n",
       "    <tr>\n",
       "      <th>300300</th>\n",
       "      <td>13429.779548</td>\n",
       "      <td>25.708282</td>\n",
       "      <td>20.955219</td>\n",
       "      <td>13.731949</td>\n",
       "      <td>NaN</td>\n",
       "      <td>NaN</td>\n",
       "      <td>NaN</td>\n",
       "      <td>NaN</td>\n",
       "    </tr>\n",
       "  </tbody>\n",
       "</table>\n",
       "<p>300301 rows × 8 columns</p>\n",
       "</div>"
      ],
      "text/plain": [
       "         DL(+)3.623m Unnamed: 1 Unnamed: 2 Unnamed: 3  DL(+)4.831m Unnamed: 5  \\\n",
       "0               time       ch.1       ch.2       ch.3          NaN       ch.1   \n",
       "1                  0  -0.738737  -0.298374   -0.94841     0.000000  -1.210622   \n",
       "2           0.044721  -0.808222  -0.379338  -1.026828     0.044721  -0.851296   \n",
       "3           0.089443  -0.937519  -0.169406  -0.713158     0.089443  -0.959094   \n",
       "4           0.134164  -1.136301   -0.39367  -0.924332     0.134164  -1.007004   \n",
       "...              ...        ...        ...        ...          ...        ...   \n",
       "300296  13429.600663  25.729856  20.627046  13.505691          NaN        NaN   \n",
       "300297  13429.645384  25.732237  20.804752  13.740943          NaN        NaN   \n",
       "300298  13429.690105  25.875967  20.608418  14.003365          NaN        NaN   \n",
       "300299  13429.734827    25.6077  20.824092   13.94303          NaN        NaN   \n",
       "300300  13429.779548  25.708282  20.955219  13.731949          NaN        NaN   \n",
       "\n",
       "       Unnamed: 6 Unnamed: 7  \n",
       "0            ch.2       ch.3  \n",
       "1       -0.359998  -1.259082  \n",
       "2       -0.304116  -1.090161  \n",
       "3       -0.218856  -1.443087  \n",
       "4       -0.147195  -0.885077  \n",
       "...           ...        ...  \n",
       "300296        NaN        NaN  \n",
       "300297        NaN        NaN  \n",
       "300298        NaN        NaN  \n",
       "300299        NaN        NaN  \n",
       "300300        NaN        NaN  \n",
       "\n",
       "[300301 rows x 8 columns]"
      ]
     },
     "execution_count": 3,
     "metadata": {},
     "output_type": "execute_result"
    }
   ],
   "source": [
    "df"
   ]
  },
  {
   "cell_type": "code",
   "execution_count": 4,
   "metadata": {},
   "outputs": [
    {
     "data": {
      "text/plain": [
       "1                    0\n",
       "2             0.044721\n",
       "3             0.089443\n",
       "4             0.134164\n",
       "5             0.178885\n",
       "              ...     \n",
       "300296    13429.600663\n",
       "300297    13429.645384\n",
       "300298    13429.690105\n",
       "300299    13429.734827\n",
       "300300    13429.779548\n",
       "Name: DL(+)3.623m, Length: 300300, dtype: object"
      ]
     },
     "execution_count": 4,
     "metadata": {},
     "output_type": "execute_result"
    }
   ],
   "source": [
    "df['DL(+)3.623m'][1:]"
   ]
  },
  {
   "cell_type": "code",
   "execution_count": 5,
   "metadata": {},
   "outputs": [
    {
     "data": {
      "text/plain": [
       "1                    0\n",
       "2             0.044721\n",
       "3             0.089443\n",
       "4             0.134164\n",
       "5             0.178885\n",
       "              ...     \n",
       "300296    13429.600663\n",
       "300297    13429.645384\n",
       "300298    13429.690105\n",
       "300299    13429.734827\n",
       "300300    13429.779548\n",
       "Name: DL(+)3.623m, Length: 300300, dtype: object"
      ]
     },
     "execution_count": 5,
     "metadata": {},
     "output_type": "execute_result"
    }
   ],
   "source": [
    "df['DL(+)3.623m'][1:].dropna()"
   ]
  },
  {
   "cell_type": "code",
   "execution_count": 6,
   "metadata": {},
   "outputs": [
    {
     "data": {
      "text/plain": [
       "1         -0.738737\n",
       "2         -0.808222\n",
       "3         -0.937519\n",
       "4         -1.136301\n",
       "5         -0.542336\n",
       "            ...    \n",
       "300296    25.729856\n",
       "300297    25.732237\n",
       "300298    25.875967\n",
       "300299      25.6077\n",
       "300300    25.708282\n",
       "Name: Unnamed: 1, Length: 300300, dtype: object"
      ]
     },
     "execution_count": 6,
     "metadata": {},
     "output_type": "execute_result"
    }
   ],
   "source": [
    "df['Unnamed: 1'][1:]"
   ]
  },
  {
   "cell_type": "code",
   "execution_count": 7,
   "metadata": {},
   "outputs": [
    {
     "data": {
      "text/plain": [
       "1         -0.738737\n",
       "2         -0.808222\n",
       "3         -0.937519\n",
       "4         -1.136301\n",
       "5         -0.542336\n",
       "            ...    \n",
       "300296    25.729856\n",
       "300297    25.732237\n",
       "300298    25.875967\n",
       "300299      25.6077\n",
       "300300    25.708282\n",
       "Name: Unnamed: 1, Length: 300300, dtype: object"
      ]
     },
     "execution_count": 7,
     "metadata": {},
     "output_type": "execute_result"
    }
   ],
   "source": [
    "df['Unnamed: 1'][1:].dropna()"
   ]
  },
  {
   "cell_type": "code",
   "execution_count": 8,
   "metadata": {},
   "outputs": [
    {
     "data": {
      "text/plain": [
       "1         -0.298374\n",
       "2         -0.379338\n",
       "3         -0.169406\n",
       "4          -0.39367\n",
       "5         -0.318448\n",
       "            ...    \n",
       "300296    20.627046\n",
       "300297    20.804752\n",
       "300298    20.608418\n",
       "300299    20.824092\n",
       "300300    20.955219\n",
       "Name: Unnamed: 2, Length: 300300, dtype: object"
      ]
     },
     "execution_count": 8,
     "metadata": {},
     "output_type": "execute_result"
    }
   ],
   "source": [
    "df['Unnamed: 2'][1:]"
   ]
  },
  {
   "cell_type": "code",
   "execution_count": 9,
   "metadata": {},
   "outputs": [
    {
     "data": {
      "text/plain": [
       "1         -0.298374\n",
       "2         -0.379338\n",
       "3         -0.169406\n",
       "4          -0.39367\n",
       "5         -0.318448\n",
       "            ...    \n",
       "300296    20.627046\n",
       "300297    20.804752\n",
       "300298    20.608418\n",
       "300299    20.824092\n",
       "300300    20.955219\n",
       "Name: Unnamed: 2, Length: 300300, dtype: object"
      ]
     },
     "execution_count": 9,
     "metadata": {},
     "output_type": "execute_result"
    }
   ],
   "source": [
    "df['Unnamed: 2'][1:].dropna()"
   ]
  },
  {
   "cell_type": "code",
   "execution_count": 10,
   "metadata": {},
   "outputs": [
    {
     "data": {
      "text/plain": [
       "1          -0.94841\n",
       "2         -1.026828\n",
       "3         -0.713158\n",
       "4         -0.924332\n",
       "5         -1.123421\n",
       "            ...    \n",
       "300296    13.505691\n",
       "300297    13.740943\n",
       "300298    14.003365\n",
       "300299     13.94303\n",
       "300300    13.731949\n",
       "Name: Unnamed: 3, Length: 300300, dtype: object"
      ]
     },
     "execution_count": 10,
     "metadata": {},
     "output_type": "execute_result"
    }
   ],
   "source": [
    "df['Unnamed: 3'][1:]"
   ]
  },
  {
   "cell_type": "code",
   "execution_count": 11,
   "metadata": {},
   "outputs": [
    {
     "data": {
      "text/plain": [
       "1          -0.94841\n",
       "2         -1.026828\n",
       "3         -0.713158\n",
       "4         -0.924332\n",
       "5         -1.123421\n",
       "            ...    \n",
       "300296    13.505691\n",
       "300297    13.740943\n",
       "300298    14.003365\n",
       "300299     13.94303\n",
       "300300    13.731949\n",
       "Name: Unnamed: 3, Length: 300300, dtype: object"
      ]
     },
     "execution_count": 11,
     "metadata": {},
     "output_type": "execute_result"
    }
   ],
   "source": [
    "df['Unnamed: 3'][1:].dropna()"
   ]
  },
  {
   "cell_type": "code",
   "execution_count": 12,
   "metadata": {},
   "outputs": [
    {
     "data": {
      "text/plain": [
       "1         0.000000\n",
       "2         0.044721\n",
       "3         0.089443\n",
       "4         0.134164\n",
       "5         0.178885\n",
       "            ...   \n",
       "300296         NaN\n",
       "300297         NaN\n",
       "300298         NaN\n",
       "300299         NaN\n",
       "300300         NaN\n",
       "Name: DL(+)4.831m, Length: 300300, dtype: float64"
      ]
     },
     "execution_count": 12,
     "metadata": {},
     "output_type": "execute_result"
    }
   ],
   "source": [
    "df['DL(+)4.831m'][1:]"
   ]
  },
  {
   "cell_type": "code",
   "execution_count": 13,
   "metadata": {},
   "outputs": [
    {
     "data": {
      "text/plain": [
       "1            0.000000\n",
       "2            0.044721\n",
       "3            0.089443\n",
       "4            0.134164\n",
       "5            0.178885\n",
       "             ...     \n",
       "207365    9273.600002\n",
       "207366    9273.644723\n",
       "207367    9273.689444\n",
       "207368    9273.734166\n",
       "207369    9273.778887\n",
       "Name: DL(+)4.831m, Length: 207369, dtype: float64"
      ]
     },
     "execution_count": 13,
     "metadata": {},
     "output_type": "execute_result"
    }
   ],
   "source": [
    "df['DL(+)4.831m'][1:207370]"
   ]
  },
  {
   "cell_type": "code",
   "execution_count": 14,
   "metadata": {},
   "outputs": [
    {
     "data": {
      "text/plain": [
       "1            0.000000\n",
       "2            0.044721\n",
       "3            0.089443\n",
       "4            0.134164\n",
       "5            0.178885\n",
       "             ...     \n",
       "207366    9273.644723\n",
       "207367    9273.689444\n",
       "207368    9273.734166\n",
       "207369    9273.778887\n",
       "300294      12.309803\n",
       "Name: DL(+)4.831m, Length: 207370, dtype: float64"
      ]
     },
     "execution_count": 14,
     "metadata": {},
     "output_type": "execute_result"
    }
   ],
   "source": [
    "df['DL(+)4.831m'][1:].dropna()"
   ]
  },
  {
   "cell_type": "code",
   "execution_count": 15,
   "metadata": {},
   "outputs": [
    {
     "data": {
      "text/plain": [
       "1        -1.210622\n",
       "2        -0.851296\n",
       "3        -0.959094\n",
       "4        -1.007004\n",
       "5        -0.942355\n",
       "            ...   \n",
       "300296         NaN\n",
       "300297         NaN\n",
       "300298         NaN\n",
       "300299         NaN\n",
       "300300         NaN\n",
       "Name: Unnamed: 5, Length: 300300, dtype: object"
      ]
     },
     "execution_count": 15,
     "metadata": {},
     "output_type": "execute_result"
    }
   ],
   "source": [
    "df['Unnamed: 5'][1:]"
   ]
  },
  {
   "cell_type": "code",
   "execution_count": 16,
   "metadata": {},
   "outputs": [
    {
     "data": {
      "text/plain": [
       "1         -1.210622\n",
       "2         -0.851296\n",
       "3         -0.959094\n",
       "4         -1.007004\n",
       "5         -0.942355\n",
       "            ...    \n",
       "191997    22.247301\n",
       "191998    22.185033\n",
       "191999    22.316786\n",
       "192000    22.417367\n",
       "300294     6.933583\n",
       "Name: Unnamed: 5, Length: 192001, dtype: object"
      ]
     },
     "execution_count": 16,
     "metadata": {},
     "output_type": "execute_result"
    }
   ],
   "source": [
    "df['Unnamed: 5'][1:].dropna()"
   ]
  },
  {
   "cell_type": "code",
   "execution_count": 17,
   "metadata": {},
   "outputs": [
    {
     "data": {
      "text/plain": [
       "1        -0.359998\n",
       "2        -0.304116\n",
       "3        -0.218856\n",
       "4        -0.147195\n",
       "5        -0.266126\n",
       "            ...   \n",
       "300296         NaN\n",
       "300297         NaN\n",
       "300298         NaN\n",
       "300299         NaN\n",
       "300300         NaN\n",
       "Name: Unnamed: 6, Length: 300300, dtype: object"
      ]
     },
     "execution_count": 17,
     "metadata": {},
     "output_type": "execute_result"
    }
   ],
   "source": [
    "df['Unnamed: 6'][1:]"
   ]
  },
  {
   "cell_type": "code",
   "execution_count": 18,
   "metadata": {},
   "outputs": [
    {
     "data": {
      "text/plain": [
       "1         -0.359998\n",
       "2         -0.304116\n",
       "3         -0.218856\n",
       "4         -0.147195\n",
       "5         -0.266126\n",
       "            ...    \n",
       "191996    16.516489\n",
       "191997    16.220564\n",
       "191998    16.620376\n",
       "191999    16.468485\n",
       "192000     16.38465\n",
       "Name: Unnamed: 6, Length: 192000, dtype: object"
      ]
     },
     "execution_count": 18,
     "metadata": {},
     "output_type": "execute_result"
    }
   ],
   "source": [
    "df['Unnamed: 6'][1:].dropna()"
   ]
  },
  {
   "cell_type": "code",
   "execution_count": 19,
   "metadata": {},
   "outputs": [
    {
     "data": {
      "text/plain": [
       "1        -1.259082\n",
       "2        -1.090161\n",
       "3        -1.443087\n",
       "4        -0.885077\n",
       "5        -0.815747\n",
       "            ...   \n",
       "300296         NaN\n",
       "300297         NaN\n",
       "300298         NaN\n",
       "300299         NaN\n",
       "300300         NaN\n",
       "Name: Unnamed: 7, Length: 300300, dtype: object"
      ]
     },
     "execution_count": 19,
     "metadata": {},
     "output_type": "execute_result"
    }
   ],
   "source": [
    "df['Unnamed: 7'][1:]"
   ]
  },
  {
   "cell_type": "code",
   "execution_count": 20,
   "metadata": {},
   "outputs": [
    {
     "data": {
      "text/plain": [
       "1         -1.259082\n",
       "2         -1.090161\n",
       "3         -1.443087\n",
       "4         -0.885077\n",
       "5         -0.815747\n",
       "            ...    \n",
       "191996    10.688473\n",
       "191997    10.950895\n",
       "191998    10.778976\n",
       "191999     10.76689\n",
       "192000    11.074564\n",
       "Name: Unnamed: 7, Length: 192000, dtype: object"
      ]
     },
     "execution_count": 20,
     "metadata": {},
     "output_type": "execute_result"
    }
   ],
   "source": [
    "df['Unnamed: 7'][1:].dropna()"
   ]
  },
  {
   "cell_type": "code",
   "execution_count": 21,
   "metadata": {},
   "outputs": [
    {
     "data": {
      "image/png": "[encoded data removed]",
      "text/plain": [
       "<Figure size 1200x600 with 1 Axes>"
      ]
     },
     "metadata": {},
     "output_type": "display_data"
    }
   ],
   "source": [
    "import matplotlib.pyplot as plt\n",
    "\n",
    "# Plot all three channels on the same graph\n",
    "plt.figure(figsize=(12, 6))\n",
    "plt.plot(df['DL(+)3.623m'][1:].dropna(), df['Unnamed: 1'][1:].dropna(), label='Channel 1')\n",
    "plt.plot(df['DL(+)3.623m'][1:].dropna(), df['Unnamed: 2'][1:].dropna(), label='Channel 2')\n",
    "plt.plot(df['DL(+)3.623m'][1:].dropna(), df['Unnamed: 3'][1:].dropna(), label='Channel 3')\n",
    "plt.xlabel('Time')\n",
    "plt.ylabel('Pressure')\n",
    "plt.title('All Channels Pressure Over Time (DL+3.623m)')\n",
    "plt.legend()\n",
    "plt.grid(True)\n",
    "plt.show()"
   ]
  },
  {
   "cell_type": "code",
   "execution_count": 22,
   "metadata": {},
   "outputs": [
    {
     "data": {
      "image/png": "[encoded data removed]",
      "text/plain": [
       "<Figure size 1200x600 with 1 Axes>"
      ]
     },
     "metadata": {},
     "output_type": "display_data"
    }
   ],
   "source": [
    "# Plot all three channels on the same graph\n",
    "plt.figure(figsize=(12, 6))\n",
    "plt.plot(df['DL(+)4.831m'][1:192001].dropna(), df['Unnamed: 5'][1:192002].dropna(), label='Channel 1')\n",
    "plt.plot(df['DL(+)4.831m'][1:192001].dropna(), df['Unnamed: 6'][1:192002].dropna(), label='Channel 2')\n",
    "plt.plot(df['DL(+)4.831m'][1:192001].dropna(), df['Unnamed: 7'][1:192002].dropna(), label='Channel 3')\n",
    "plt.xlabel('Time')\n",
    "plt.ylabel('Pressure')\n",
    "plt.title('All Channels Pressure Over Time (DL+4.831m)')\n",
    "plt.legend()\n",
    "plt.grid(True)\n",
    "plt.show()"
   ]
  },
  {
   "cell_type": "code",
   "execution_count": 23,
   "metadata": {},
   "outputs": [
    {
     "data": {
      "text/html": [
       "<div>\n",
       "<style scoped>\n",
       "    .dataframe tbody tr th:only-of-type {\n",
       "        vertical-align: middle;\n",
       "    }\n",
       "\n",
       "    .dataframe tbody tr th {\n",
       "        vertical-align: top;\n",
       "    }\n",
       "\n",
       "    .dataframe thead th {\n",
       "        text-align: right;\n",
       "    }\n",
       "</style>\n",
       "<table border=\"1\" class=\"dataframe\">\n",
       "  <thead>\n",
       "    <tr style=\"text-align: right;\">\n",
       "      <th></th>\n",
       "      <th>DL(+)3.623m</th>\n",
       "      <th>Unnamed: 1</th>\n",
       "      <th>Unnamed: 2</th>\n",
       "      <th>Unnamed: 3</th>\n",
       "      <th>DL(+)4.831m</th>\n",
       "      <th>Unnamed: 5</th>\n",
       "      <th>Unnamed: 6</th>\n",
       "      <th>Unnamed: 7</th>\n",
       "    </tr>\n",
       "  </thead>\n",
       "  <tbody>\n",
       "    <tr>\n",
       "      <th>0</th>\n",
       "      <td>time</td>\n",
       "      <td>ch.1</td>\n",
       "      <td>ch.2</td>\n",
       "      <td>ch.3</td>\n",
       "      <td>NaN</td>\n",
       "      <td>ch.1</td>\n",
       "      <td>ch.2</td>\n",
       "      <td>ch.3</td>\n",
       "    </tr>\n",
       "    <tr>\n",
       "      <th>1</th>\n",
       "      <td>0</td>\n",
       "      <td>-0.738737</td>\n",
       "      <td>-0.298374</td>\n",
       "      <td>-0.94841</td>\n",
       "      <td>0.000000</td>\n",
       "      <td>-1.210622</td>\n",
       "      <td>-0.359998</td>\n",
       "      <td>-1.259082</td>\n",
       "    </tr>\n",
       "    <tr>\n",
       "      <th>2</th>\n",
       "      <td>0.044721</td>\n",
       "      <td>-0.808222</td>\n",
       "      <td>-0.379338</td>\n",
       "      <td>-1.026828</td>\n",
       "      <td>0.044721</td>\n",
       "      <td>-0.851296</td>\n",
       "      <td>-0.304116</td>\n",
       "      <td>-1.090161</td>\n",
       "    </tr>\n",
       "    <tr>\n",
       "      <th>3</th>\n",
       "      <td>0.089443</td>\n",
       "      <td>-0.937519</td>\n",
       "      <td>-0.169406</td>\n",
       "      <td>-0.713158</td>\n",
       "      <td>0.089443</td>\n",
       "      <td>-0.959094</td>\n",
       "      <td>-0.218856</td>\n",
       "      <td>-1.443087</td>\n",
       "    </tr>\n",
       "    <tr>\n",
       "      <th>4</th>\n",
       "      <td>0.134164</td>\n",
       "      <td>-1.136301</td>\n",
       "      <td>-0.39367</td>\n",
       "      <td>-0.924332</td>\n",
       "      <td>0.134164</td>\n",
       "      <td>-1.007004</td>\n",
       "      <td>-0.147195</td>\n",
       "      <td>-0.885077</td>\n",
       "    </tr>\n",
       "    <tr>\n",
       "      <th>...</th>\n",
       "      <td>...</td>\n",
       "      <td>...</td>\n",
       "      <td>...</td>\n",
       "      <td>...</td>\n",
       "      <td>...</td>\n",
       "      <td>...</td>\n",
       "      <td>...</td>\n",
       "      <td>...</td>\n",
       "    </tr>\n",
       "    <tr>\n",
       "      <th>300296</th>\n",
       "      <td>13429.600663</td>\n",
       "      <td>25.729856</td>\n",
       "      <td>20.627046</td>\n",
       "      <td>13.505691</td>\n",
       "      <td>NaN</td>\n",
       "      <td>NaN</td>\n",
       "      <td>NaN</td>\n",
       "      <td>NaN</td>\n",
       "    </tr>\n",
       "    <tr>\n",
       "      <th>300297</th>\n",
       "      <td>13429.645384</td>\n",
       "      <td>25.732237</td>\n",
       "      <td>20.804752</td>\n",
       "      <td>13.740943</td>\n",
       "      <td>NaN</td>\n",
       "      <td>NaN</td>\n",
       "      <td>NaN</td>\n",
       "      <td>NaN</td>\n",
       "    </tr>\n",
       "    <tr>\n",
       "      <th>300298</th>\n",
       "      <td>13429.690105</td>\n",
       "      <td>25.875967</td>\n",
       "      <td>20.608418</td>\n",
       "      <td>14.003365</td>\n",
       "      <td>NaN</td>\n",
       "      <td>NaN</td>\n",
       "      <td>NaN</td>\n",
       "      <td>NaN</td>\n",
       "    </tr>\n",
       "    <tr>\n",
       "      <th>300299</th>\n",
       "      <td>13429.734827</td>\n",
       "      <td>25.6077</td>\n",
       "      <td>20.824092</td>\n",
       "      <td>13.94303</td>\n",
       "      <td>NaN</td>\n",
       "      <td>NaN</td>\n",
       "      <td>NaN</td>\n",
       "      <td>NaN</td>\n",
       "    </tr>\n",
       "    <tr>\n",
       "      <th>300300</th>\n",
       "      <td>13429.779548</td>\n",
       "      <td>25.708282</td>\n",
       "      <td>20.955219</td>\n",
       "      <td>13.731949</td>\n",
       "      <td>NaN</td>\n",
       "      <td>NaN</td>\n",
       "      <td>NaN</td>\n",
       "      <td>NaN</td>\n",
       "    </tr>\n",
       "  </tbody>\n",
       "</table>\n",
       "<p>300301 rows × 8 columns</p>\n",
       "</div>"
      ],
      "text/plain": [
       "         DL(+)3.623m Unnamed: 1 Unnamed: 2 Unnamed: 3  DL(+)4.831m Unnamed: 5  \\\n",
       "0               time       ch.1       ch.2       ch.3          NaN       ch.1   \n",
       "1                  0  -0.738737  -0.298374   -0.94841     0.000000  -1.210622   \n",
       "2           0.044721  -0.808222  -0.379338  -1.026828     0.044721  -0.851296   \n",
       "3           0.089443  -0.937519  -0.169406  -0.713158     0.089443  -0.959094   \n",
       "4           0.134164  -1.136301   -0.39367  -0.924332     0.134164  -1.007004   \n",
       "...              ...        ...        ...        ...          ...        ...   \n",
       "300296  13429.600663  25.729856  20.627046  13.505691          NaN        NaN   \n",
       "300297  13429.645384  25.732237  20.804752  13.740943          NaN        NaN   \n",
       "300298  13429.690105  25.875967  20.608418  14.003365          NaN        NaN   \n",
       "300299  13429.734827    25.6077  20.824092   13.94303          NaN        NaN   \n",
       "300300  13429.779548  25.708282  20.955219  13.731949          NaN        NaN   \n",
       "\n",
       "       Unnamed: 6 Unnamed: 7  \n",
       "0            ch.2       ch.3  \n",
       "1       -0.359998  -1.259082  \n",
       "2       -0.304116  -1.090161  \n",
       "3       -0.218856  -1.443087  \n",
       "4       -0.147195  -0.885077  \n",
       "...           ...        ...  \n",
       "300296        NaN        NaN  \n",
       "300297        NaN        NaN  \n",
       "300298        NaN        NaN  \n",
       "300299        NaN        NaN  \n",
       "300300        NaN        NaN  \n",
       "\n",
       "[300301 rows x 8 columns]"
      ]
     },
     "execution_count": 23,
     "metadata": {},
     "output_type": "execute_result"
    }
   ],
   "source": [
    "df"
   ]
  },
  {
   "cell_type": "code",
   "execution_count": 24,
   "metadata": {},
   "outputs": [],
   "source": [
    "# Select the four columns\n",
    "selected_df = df[['DL(+)3.623m', 'Unnamed: 1', 'Unnamed: 2', 'Unnamed: 3']]\n",
    "# Optionally, if you need to remove NaN values and slice rows as before, apply those operations:\n",
    "selected_df = selected_df[1:].dropna()\n",
    "# # Save to a new CSV file\n",
    "# selected_df.to_csv('selected_columns.csv', index=False)\n"
   ]
  },
  {
   "cell_type": "code",
   "execution_count": 25,
   "metadata": {},
   "outputs": [
    {
     "data": {
      "text/html": [
       "<div>\n",
       "<style scoped>\n",
       "    .dataframe tbody tr th:only-of-type {\n",
       "        vertical-align: middle;\n",
       "    }\n",
       "\n",
       "    .dataframe tbody tr th {\n",
       "        vertical-align: top;\n",
       "    }\n",
       "\n",
       "    .dataframe thead th {\n",
       "        text-align: right;\n",
       "    }\n",
       "</style>\n",
       "<table border=\"1\" class=\"dataframe\">\n",
       "  <thead>\n",
       "    <tr style=\"text-align: right;\">\n",
       "      <th></th>\n",
       "      <th>DL(+)3.623m</th>\n",
       "      <th>Unnamed: 1</th>\n",
       "      <th>Unnamed: 2</th>\n",
       "      <th>Unnamed: 3</th>\n",
       "    </tr>\n",
       "  </thead>\n",
       "  <tbody>\n",
       "    <tr>\n",
       "      <th>1</th>\n",
       "      <td>0</td>\n",
       "      <td>-0.738737</td>\n",
       "      <td>-0.298374</td>\n",
       "      <td>-0.94841</td>\n",
       "    </tr>\n",
       "    <tr>\n",
       "      <th>2</th>\n",
       "      <td>0.044721</td>\n",
       "      <td>-0.808222</td>\n",
       "      <td>-0.379338</td>\n",
       "      <td>-1.026828</td>\n",
       "    </tr>\n",
       "    <tr>\n",
       "      <th>3</th>\n",
       "      <td>0.089443</td>\n",
       "      <td>-0.937519</td>\n",
       "      <td>-0.169406</td>\n",
       "      <td>-0.713158</td>\n",
       "    </tr>\n",
       "    <tr>\n",
       "      <th>4</th>\n",
       "      <td>0.134164</td>\n",
       "      <td>-1.136301</td>\n",
       "      <td>-0.39367</td>\n",
       "      <td>-0.924332</td>\n",
       "    </tr>\n",
       "    <tr>\n",
       "      <th>5</th>\n",
       "      <td>0.178885</td>\n",
       "      <td>-0.542336</td>\n",
       "      <td>-0.318448</td>\n",
       "      <td>-1.123421</td>\n",
       "    </tr>\n",
       "    <tr>\n",
       "      <th>...</th>\n",
       "      <td>...</td>\n",
       "      <td>...</td>\n",
       "      <td>...</td>\n",
       "      <td>...</td>\n",
       "    </tr>\n",
       "    <tr>\n",
       "      <th>300296</th>\n",
       "      <td>13429.600663</td>\n",
       "      <td>25.729856</td>\n",
       "      <td>20.627046</td>\n",
       "      <td>13.505691</td>\n",
       "    </tr>\n",
       "    <tr>\n",
       "      <th>300297</th>\n",
       "      <td>13429.645384</td>\n",
       "      <td>25.732237</td>\n",
       "      <td>20.804752</td>\n",
       "      <td>13.740943</td>\n",
       "    </tr>\n",
       "    <tr>\n",
       "      <th>300298</th>\n",
       "      <td>13429.690105</td>\n",
       "      <td>25.875967</td>\n",
       "      <td>20.608418</td>\n",
       "      <td>14.003365</td>\n",
       "    </tr>\n",
       "    <tr>\n",
       "      <th>300299</th>\n",
       "      <td>13429.734827</td>\n",
       "      <td>25.6077</td>\n",
       "      <td>20.824092</td>\n",
       "      <td>13.94303</td>\n",
       "    </tr>\n",
       "    <tr>\n",
       "      <th>300300</th>\n",
       "      <td>13429.779548</td>\n",
       "      <td>25.708282</td>\n",
       "      <td>20.955219</td>\n",
       "      <td>13.731949</td>\n",
       "    </tr>\n",
       "  </tbody>\n",
       "</table>\n",
       "<p>300300 rows × 4 columns</p>\n",
       "</div>"
      ],
      "text/plain": [
       "         DL(+)3.623m Unnamed: 1 Unnamed: 2 Unnamed: 3\n",
       "1                  0  -0.738737  -0.298374   -0.94841\n",
       "2           0.044721  -0.808222  -0.379338  -1.026828\n",
       "3           0.089443  -0.937519  -0.169406  -0.713158\n",
       "4           0.134164  -1.136301   -0.39367  -0.924332\n",
       "5           0.178885  -0.542336  -0.318448  -1.123421\n",
       "...              ...        ...        ...        ...\n",
       "300296  13429.600663  25.729856  20.627046  13.505691\n",
       "300297  13429.645384  25.732237  20.804752  13.740943\n",
       "300298  13429.690105  25.875967  20.608418  14.003365\n",
       "300299  13429.734827    25.6077  20.824092   13.94303\n",
       "300300  13429.779548  25.708282  20.955219  13.731949\n",
       "\n",
       "[300300 rows x 4 columns]"
      ]
     },
     "execution_count": 25,
     "metadata": {},
     "output_type": "execute_result"
    }
   ],
   "source": [
    "selected_df"
   ]
  },
  {
   "cell_type": "code",
   "execution_count": 26,
   "metadata": {},
   "outputs": [],
   "source": [
    "selected_df.to_csv('selected_columns.csv', index=False)"
   ]
  },
  {
   "cell_type": "code",
   "execution_count": 27,
   "metadata": {},
   "outputs": [],
   "source": [
    "# Select the four columns\n",
    "selected_df = df[['DL(+)4.831m', 'Unnamed: 5', 'Unnamed: 6', 'Unnamed: 7']]\n",
    "# Optionally, if you need to remove NaN values and slice rows as before, apply those operations:\n",
    "selected_df = selected_df[1:].dropna()\n",
    "# # Save to a new CSV file\n",
    "# selected_df.to_csv('selected_columns.csv', index=False)\n"
   ]
  },
  {
   "cell_type": "code",
   "execution_count": 28,
   "metadata": {},
   "outputs": [
    {
     "data": {
      "text/html": [
       "<div>\n",
       "<style scoped>\n",
       "    .dataframe tbody tr th:only-of-type {\n",
       "        vertical-align: middle;\n",
       "    }\n",
       "\n",
       "    .dataframe tbody tr th {\n",
       "        vertical-align: top;\n",
       "    }\n",
       "\n",
       "    .dataframe thead th {\n",
       "        text-align: right;\n",
       "    }\n",
       "</style>\n",
       "<table border=\"1\" class=\"dataframe\">\n",
       "  <thead>\n",
       "    <tr style=\"text-align: right;\">\n",
       "      <th></th>\n",
       "      <th>DL(+)4.831m</th>\n",
       "      <th>Unnamed: 5</th>\n",
       "      <th>Unnamed: 6</th>\n",
       "      <th>Unnamed: 7</th>\n",
       "    </tr>\n",
       "  </thead>\n",
       "  <tbody>\n",
       "    <tr>\n",
       "      <th>1</th>\n",
       "      <td>0.000000</td>\n",
       "      <td>-1.210622</td>\n",
       "      <td>-0.359998</td>\n",
       "      <td>-1.259082</td>\n",
       "    </tr>\n",
       "    <tr>\n",
       "      <th>2</th>\n",
       "      <td>0.044721</td>\n",
       "      <td>-0.851296</td>\n",
       "      <td>-0.304116</td>\n",
       "      <td>-1.090161</td>\n",
       "    </tr>\n",
       "    <tr>\n",
       "      <th>3</th>\n",
       "      <td>0.089443</td>\n",
       "      <td>-0.959094</td>\n",
       "      <td>-0.218856</td>\n",
       "      <td>-1.443087</td>\n",
       "    </tr>\n",
       "    <tr>\n",
       "      <th>4</th>\n",
       "      <td>0.134164</td>\n",
       "      <td>-1.007004</td>\n",
       "      <td>-0.147195</td>\n",
       "      <td>-0.885077</td>\n",
       "    </tr>\n",
       "    <tr>\n",
       "      <th>5</th>\n",
       "      <td>0.178885</td>\n",
       "      <td>-0.942355</td>\n",
       "      <td>-0.266126</td>\n",
       "      <td>-0.815747</td>\n",
       "    </tr>\n",
       "    <tr>\n",
       "      <th>...</th>\n",
       "      <td>...</td>\n",
       "      <td>...</td>\n",
       "      <td>...</td>\n",
       "      <td>...</td>\n",
       "    </tr>\n",
       "    <tr>\n",
       "      <th>191996</th>\n",
       "      <td>8586.277427</td>\n",
       "      <td>22.335979</td>\n",
       "      <td>16.516489</td>\n",
       "      <td>10.688473</td>\n",
       "    </tr>\n",
       "    <tr>\n",
       "      <th>191997</th>\n",
       "      <td>8586.322148</td>\n",
       "      <td>22.247301</td>\n",
       "      <td>16.220564</td>\n",
       "      <td>10.950895</td>\n",
       "    </tr>\n",
       "    <tr>\n",
       "      <th>191998</th>\n",
       "      <td>8586.366870</td>\n",
       "      <td>22.185033</td>\n",
       "      <td>16.620376</td>\n",
       "      <td>10.778976</td>\n",
       "    </tr>\n",
       "    <tr>\n",
       "      <th>191999</th>\n",
       "      <td>8586.411591</td>\n",
       "      <td>22.316786</td>\n",
       "      <td>16.468485</td>\n",
       "      <td>10.76689</td>\n",
       "    </tr>\n",
       "    <tr>\n",
       "      <th>192000</th>\n",
       "      <td>8586.456312</td>\n",
       "      <td>22.417367</td>\n",
       "      <td>16.38465</td>\n",
       "      <td>11.074564</td>\n",
       "    </tr>\n",
       "  </tbody>\n",
       "</table>\n",
       "<p>192000 rows × 4 columns</p>\n",
       "</div>"
      ],
      "text/plain": [
       "        DL(+)4.831m Unnamed: 5 Unnamed: 6 Unnamed: 7\n",
       "1          0.000000  -1.210622  -0.359998  -1.259082\n",
       "2          0.044721  -0.851296  -0.304116  -1.090161\n",
       "3          0.089443  -0.959094  -0.218856  -1.443087\n",
       "4          0.134164  -1.007004  -0.147195  -0.885077\n",
       "5          0.178885  -0.942355  -0.266126  -0.815747\n",
       "...             ...        ...        ...        ...\n",
       "191996  8586.277427  22.335979  16.516489  10.688473\n",
       "191997  8586.322148  22.247301  16.220564  10.950895\n",
       "191998  8586.366870  22.185033  16.620376  10.778976\n",
       "191999  8586.411591  22.316786  16.468485   10.76689\n",
       "192000  8586.456312  22.417367   16.38465  11.074564\n",
       "\n",
       "[192000 rows x 4 columns]"
      ]
     },
     "execution_count": 28,
     "metadata": {},
     "output_type": "execute_result"
    }
   ],
   "source": [
    "selected_df"
   ]
  },
  {
   "cell_type": "code",
   "execution_count": 29,
   "metadata": {},
   "outputs": [],
   "source": [
    "selected_df.to_csv('selected_columns.csv', index=False)"
   ]
  },
  {
   "cell_type": "code",
   "execution_count": null,
   "metadata": {},
   "outputs": [],
   "source": [
    "필터매트의 투수계수 변화에 따라 제체내 및 제체 주변에서의 흐름이 변화되므로 제체단면내 수압 또한 변화될 것으로 판단됨. 따라서 본 절에서는 조위 및 필터매트의 변화에 의한 수압변화를 검토하고자 다음 그림과 같이 세 지점에서 수압을 측정하였음. \n",
    "• 검토결과 필터매트의 투수계수 값이 작은 Case01, 02에서 ch.3의 수압 강도는 0.5~1.0kPa 범위에서 형성되었으며, 필터매트의 투수계수 값이 상대적으로 큰 Case03~04은 - 1~-2kPa, 필터매트의 투수계수의 값이 가장 큰 Case05~06은 0~1.5kPa의 값이 발생됨. 파괴시점에서 ch.3의 수압은 필터매트의 변화에 따라 다소 차이가 발생하였으나 그 범위는 약 3kPa이내에 해당됨. 하지만 필터매트가 설치되지 않은 Case07, 08조건에서는 10kPa을 초과하는 수압이 발생되었음.\n",
    "• 내측 관리수위 DL(+)3.623m 조건에 대한 필터매트 변화에 대한 수압 특성은 투수계수가 가장 작은 Case01은 파괴시점에서 ch.1과 ch.3의 차이가 15.7kPa이 되었으며, ch2와 ch.3의 차이는 13.4가 되었음. 투수계수가 증가된 Case03의 경우 압력차는 각각 21.6kPa 및 18.8kPa로서 수압이 증가되었으며 필터매트의 투수계수가 가장 큰 Case05조건에서는 25.1kPa 및 20.0kPa이 되어 투수계수 증가에 따른 파괴시점에서의 수압차는 증가하는 것으로 나타남. 필터매트가 설치되지 않는 조건인 Case07의 경우 각각 11.8kPa 및 7.4kPa로서 압력차이는 감소되는 경향이 나타남.\n",
    "• 내측 관리수위 DL(+)4.923m 조건의 경우 전반적으로 필터매트의 투수계수 증가에 따라 제체내 수압차는 증가하는 것으로 나타났으며 필터매트가 설치되지 않는 조건에서는 가장 작은 수압차가 발생하였음."
   ]
  },
  {
   "cell_type": "code",
   "execution_count": null,
   "metadata": {},
   "outputs": [],
   "source": [
    "• 호안단면을 구성하고 있는 제체사 0.03m2급과 필터사 0100mm급은 각각 9.21cm/sec 및 2.58cm/sec의 투수계수를 가짐. 이때 필터매트가 설치될 경우 필터 매트를 기준으로 투수계수가 변화되므로 제체내 수압변화와 안정성과의 관계를 검토 할 필요가 있음.\n",
    "• 내수위 DL(+)3.623m조건에서 0.13cm/sec의 투수계수를 갖는 필터매트가 설치될 경우 내•외수위차 1.480m일 때 파괴가 발생되었으며 필터매트 전•후면에서는 최대 2.071kPa의 압력차가 발생되었음. 동일한 내수위 조건에서 0.51cm/sec로 투수계수가 증가할 경우 내 외수위차가 1.792m에 도달하는 시점까지 단면은 안정을 유지하였으며 이때의 압력차는 2.961kPa에 해당됨. 0.82cm/sec의 투수계수 조건에서는 안정을 유 지하는 내•외수위차는 2.602m이며 이때의 압력차는 3.058kPa이 발생됨.\n",
    "• 내수위 DL(+)4.923m조건에서도 유사한 경향이 나타났음. K:0.13cm/sec조건에서 0.894m수위차가 발생될 때 단면은 파괴되었으며 이때 압력차는 1.976kPa이 발생됨. K:0.51cm/sec조건에서는 1.336m 수위차에 도달할 때 2.113kPa의 압력차이가 나타 났으며 K:0.82cm/sec조건에서는 수위 2.062m에서 2.880kPa의 압력차가 발생됨. • 수압측정결과 내•외수위차의 규모는 압력차의 크기와 비례하는 것으로 나타났으며 단 면내 압력차이가 크게 나타날수록 단면안정성에 유리한 것으로 분석됨."
   ]
  }
 ],
 "metadata": {
  "kernelspec": {
   "display_name": "datasci-python312",
   "language": "python",
   "name": "python3"
  },
  "language_info": {
   "codemirror_mode": {
    "name": "ipython",
    "version": 3
   },
   "file_extension": ".py",
   "mimetype": "text/x-python",
   "name": "python",
   "nbconvert_exporter": "python",
   "pygments_lexer": "ipython3",
   "version": "3.9.20"
  }
 },
 "nbformat": 4,
 "nbformat_minor": 2
}
