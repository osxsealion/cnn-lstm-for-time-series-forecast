{
 "cells": [
  {
   "cell_type": "code",
   "execution_count": 1,
   "metadata": {},
   "outputs": [],
   "source": [
    "import pandas as pd\n",
    "df = pd.read_excel('/Users/vinny/Downloads/Shared Files from Google Drive/수압 filter mat 0.82.xlsx', skiprows=1)"
   ]
  },
  {
   "cell_type": "code",
   "execution_count": 2,
   "metadata": {},
   "outputs": [
    {
     "data": {
      "text/html": [
       "<div>\n",
       "<style scoped>\n",
       "    .dataframe tbody tr th:only-of-type {\n",
       "        vertical-align: middle;\n",
       "    }\n",
       "\n",
       "    .dataframe tbody tr th {\n",
       "        vertical-align: top;\n",
       "    }\n",
       "\n",
       "    .dataframe thead th {\n",
       "        text-align: right;\n",
       "    }\n",
       "</style>\n",
       "<table border=\"1\" class=\"dataframe\">\n",
       "  <thead>\n",
       "    <tr style=\"text-align: right;\">\n",
       "      <th></th>\n",
       "      <th>DL(+)3.623m</th>\n",
       "      <th>Unnamed: 1</th>\n",
       "      <th>Unnamed: 2</th>\n",
       "      <th>Unnamed: 3</th>\n",
       "      <th>DL(+)4.831m</th>\n",
       "      <th>Unnamed: 5</th>\n",
       "      <th>Unnamed: 6</th>\n",
       "      <th>Unnamed: 7</th>\n",
       "    </tr>\n",
       "  </thead>\n",
       "  <tbody>\n",
       "    <tr>\n",
       "      <th>0</th>\n",
       "      <td>time</td>\n",
       "      <td>ch.1</td>\n",
       "      <td>ch.2</td>\n",
       "      <td>ch.3</td>\n",
       "      <td>time</td>\n",
       "      <td>ch.1</td>\n",
       "      <td>ch.2</td>\n",
       "      <td>ch.3</td>\n",
       "    </tr>\n",
       "    <tr>\n",
       "      <th>1</th>\n",
       "      <td>0</td>\n",
       "      <td>0.092035</td>\n",
       "      <td>0.200493</td>\n",
       "      <td>0.461799</td>\n",
       "      <td>0</td>\n",
       "      <td>0.067405</td>\n",
       "      <td>0.503018</td>\n",
       "      <td>-0.019957</td>\n",
       "    </tr>\n",
       "    <tr>\n",
       "      <th>2</th>\n",
       "      <td>0.044721</td>\n",
       "      <td>-0.041724</td>\n",
       "      <td>-0.973885</td>\n",
       "      <td>-0.332753</td>\n",
       "      <td>0.044721</td>\n",
       "      <td>-0.081226</td>\n",
       "      <td>0.14934</td>\n",
       "      <td>-0.128779</td>\n",
       "    </tr>\n",
       "    <tr>\n",
       "      <th>3</th>\n",
       "      <td>0.089443</td>\n",
       "      <td>-0.415198</td>\n",
       "      <td>-0.144877</td>\n",
       "      <td>-0.09654</td>\n",
       "      <td>0.089443</td>\n",
       "      <td>0.517974</td>\n",
       "      <td>-0.657507</td>\n",
       "      <td>-0.289112</td>\n",
       "    </tr>\n",
       "    <tr>\n",
       "      <th>4</th>\n",
       "      <td>0.134164</td>\n",
       "      <td>0.119909</td>\n",
       "      <td>-0.006731</td>\n",
       "      <td>-0.540373</td>\n",
       "      <td>0.134164</td>\n",
       "      <td>0.606212</td>\n",
       "      <td>-0.182229</td>\n",
       "      <td>-0.415116</td>\n",
       "    </tr>\n",
       "    <tr>\n",
       "      <th>...</th>\n",
       "      <td>...</td>\n",
       "      <td>...</td>\n",
       "      <td>...</td>\n",
       "      <td>...</td>\n",
       "      <td>...</td>\n",
       "      <td>...</td>\n",
       "      <td>...</td>\n",
       "      <td>...</td>\n",
       "    </tr>\n",
       "    <tr>\n",
       "      <th>272796</th>\n",
       "      <td>12199.763278</td>\n",
       "      <td>23.480084</td>\n",
       "      <td>17.719344</td>\n",
       "      <td>20.476155</td>\n",
       "      <td>NaN</td>\n",
       "      <td>NaN</td>\n",
       "      <td>NaN</td>\n",
       "      <td>NaN</td>\n",
       "    </tr>\n",
       "    <tr>\n",
       "      <th>272797</th>\n",
       "      <td>12199.808</td>\n",
       "      <td>23.050897</td>\n",
       "      <td>18.037078</td>\n",
       "      <td>19.903498</td>\n",
       "      <td>NaN</td>\n",
       "      <td>NaN</td>\n",
       "      <td>NaN</td>\n",
       "      <td>NaN</td>\n",
       "    </tr>\n",
       "    <tr>\n",
       "      <th>272798</th>\n",
       "      <td>12199.852721</td>\n",
       "      <td>22.214822</td>\n",
       "      <td>17.843623</td>\n",
       "      <td>20.333013</td>\n",
       "      <td>NaN</td>\n",
       "      <td>NaN</td>\n",
       "      <td>NaN</td>\n",
       "      <td>NaN</td>\n",
       "    </tr>\n",
       "    <tr>\n",
       "      <th>272799</th>\n",
       "      <td>12199.897442</td>\n",
       "      <td>21.963993</td>\n",
       "      <td>18.603539</td>\n",
       "      <td>20.333013</td>\n",
       "      <td>NaN</td>\n",
       "      <td>NaN</td>\n",
       "      <td>NaN</td>\n",
       "      <td>NaN</td>\n",
       "    </tr>\n",
       "    <tr>\n",
       "      <th>272800</th>\n",
       "      <td>12199.942164</td>\n",
       "      <td>23.240404</td>\n",
       "      <td>17.885077</td>\n",
       "      <td>20.361606</td>\n",
       "      <td>NaN</td>\n",
       "      <td>NaN</td>\n",
       "      <td>NaN</td>\n",
       "      <td>NaN</td>\n",
       "    </tr>\n",
       "  </tbody>\n",
       "</table>\n",
       "<p>272801 rows × 8 columns</p>\n",
       "</div>"
      ],
      "text/plain": [
       "         DL(+)3.623m Unnamed: 1 Unnamed: 2 Unnamed: 3 DL(+)4.831m Unnamed: 5  \\\n",
       "0               time       ch.1       ch.2       ch.3        time       ch.1   \n",
       "1                  0   0.092035   0.200493   0.461799           0   0.067405   \n",
       "2           0.044721  -0.041724  -0.973885  -0.332753    0.044721  -0.081226   \n",
       "3           0.089443  -0.415198  -0.144877   -0.09654    0.089443   0.517974   \n",
       "4           0.134164   0.119909  -0.006731  -0.540373    0.134164   0.606212   \n",
       "...              ...        ...        ...        ...         ...        ...   \n",
       "272796  12199.763278  23.480084  17.719344  20.476155         NaN        NaN   \n",
       "272797     12199.808  23.050897  18.037078  19.903498         NaN        NaN   \n",
       "272798  12199.852721  22.214822  17.843623  20.333013         NaN        NaN   \n",
       "272799  12199.897442  21.963993  18.603539  20.333013         NaN        NaN   \n",
       "272800  12199.942164  23.240404  17.885077  20.361606         NaN        NaN   \n",
       "\n",
       "       Unnamed: 6 Unnamed: 7  \n",
       "0            ch.2       ch.3  \n",
       "1        0.503018  -0.019957  \n",
       "2         0.14934  -0.128779  \n",
       "3       -0.657507  -0.289112  \n",
       "4       -0.182229  -0.415116  \n",
       "...           ...        ...  \n",
       "272796        NaN        NaN  \n",
       "272797        NaN        NaN  \n",
       "272798        NaN        NaN  \n",
       "272799        NaN        NaN  \n",
       "272800        NaN        NaN  \n",
       "\n",
       "[272801 rows x 8 columns]"
      ]
     },
     "execution_count": 2,
     "metadata": {},
     "output_type": "execute_result"
    }
   ],
   "source": [
    "df"
   ]
  },
  {
   "cell_type": "code",
   "execution_count": 3,
   "metadata": {},
   "outputs": [
    {
     "data": {
      "text/plain": [
       "1                    0\n",
       "2             0.044721\n",
       "3             0.089443\n",
       "4             0.134164\n",
       "5             0.178885\n",
       "              ...     \n",
       "272796    12199.763278\n",
       "272797       12199.808\n",
       "272798    12199.852721\n",
       "272799    12199.897442\n",
       "272800    12199.942164\n",
       "Name: DL(+)3.623m, Length: 272800, dtype: object"
      ]
     },
     "execution_count": 3,
     "metadata": {},
     "output_type": "execute_result"
    }
   ],
   "source": [
    "df['DL(+)3.623m'][1:]"
   ]
  },
  {
   "cell_type": "code",
   "execution_count": 4,
   "metadata": {},
   "outputs": [
    {
     "data": {
      "text/plain": [
       "1                    0\n",
       "2             0.044721\n",
       "3             0.089443\n",
       "4             0.134164\n",
       "5             0.178885\n",
       "              ...     \n",
       "272796    12199.763278\n",
       "272797       12199.808\n",
       "272798    12199.852721\n",
       "272799    12199.897442\n",
       "272800    12199.942164\n",
       "Name: DL(+)3.623m, Length: 272800, dtype: object"
      ]
     },
     "execution_count": 4,
     "metadata": {},
     "output_type": "execute_result"
    }
   ],
   "source": [
    "df['DL(+)3.623m'][1:].dropna()"
   ]
  },
  {
   "cell_type": "code",
   "execution_count": 5,
   "metadata": {},
   "outputs": [
    {
     "data": {
      "text/plain": [
       "1          0.092035\n",
       "2         -0.041724\n",
       "3         -0.415198\n",
       "4          0.119909\n",
       "5           0.09761\n",
       "            ...    \n",
       "272796    23.480084\n",
       "272797    23.050897\n",
       "272798    22.214822\n",
       "272799    21.963993\n",
       "272800    23.240404\n",
       "Name: Unnamed: 1, Length: 272800, dtype: object"
      ]
     },
     "execution_count": 5,
     "metadata": {},
     "output_type": "execute_result"
    }
   ],
   "source": [
    "df['Unnamed: 1'][1:]"
   ]
  },
  {
   "cell_type": "code",
   "execution_count": 6,
   "metadata": {},
   "outputs": [
    {
     "data": {
      "text/plain": [
       "1          0.092035\n",
       "2         -0.041724\n",
       "3         -0.415198\n",
       "4          0.119909\n",
       "5           0.09761\n",
       "            ...    \n",
       "272796    23.480084\n",
       "272797    23.050897\n",
       "272798    22.214822\n",
       "272799    21.963993\n",
       "272800    23.240404\n",
       "Name: Unnamed: 1, Length: 272800, dtype: object"
      ]
     },
     "execution_count": 6,
     "metadata": {},
     "output_type": "execute_result"
    }
   ],
   "source": [
    "df['Unnamed: 1'][1:].dropna()"
   ]
  },
  {
   "cell_type": "code",
   "execution_count": 7,
   "metadata": {},
   "outputs": [
    {
     "data": {
      "text/plain": [
       "1          0.200493\n",
       "2         -0.973885\n",
       "3         -0.144877\n",
       "4         -0.006731\n",
       "5          0.186675\n",
       "            ...    \n",
       "272796    17.719344\n",
       "272797    18.037078\n",
       "272798    17.843623\n",
       "272799    18.603539\n",
       "272800    17.885077\n",
       "Name: Unnamed: 2, Length: 272800, dtype: object"
      ]
     },
     "execution_count": 7,
     "metadata": {},
     "output_type": "execute_result"
    }
   ],
   "source": [
    "df['Unnamed: 2'][1:]"
   ]
  },
  {
   "cell_type": "code",
   "execution_count": 8,
   "metadata": {},
   "outputs": [
    {
     "data": {
      "text/plain": [
       "1          0.200493\n",
       "2         -0.973885\n",
       "3         -0.144877\n",
       "4         -0.006731\n",
       "5          0.186675\n",
       "            ...    \n",
       "272796    17.719344\n",
       "272797    18.037078\n",
       "272798    17.843623\n",
       "272799    18.603539\n",
       "272800    17.885077\n",
       "Name: Unnamed: 2, Length: 272800, dtype: object"
      ]
     },
     "execution_count": 8,
     "metadata": {},
     "output_type": "execute_result"
    }
   ],
   "source": [
    "df['Unnamed: 2'][1:].dropna()"
   ]
  },
  {
   "cell_type": "code",
   "execution_count": 9,
   "metadata": {},
   "outputs": [
    {
     "data": {
      "text/plain": [
       "1          0.461799\n",
       "2         -0.332753\n",
       "3          -0.09654\n",
       "4         -0.540373\n",
       "5         -0.075062\n",
       "            ...    \n",
       "272796    20.476155\n",
       "272797    19.903498\n",
       "272798    20.333013\n",
       "272799    20.333013\n",
       "272800    20.361606\n",
       "Name: Unnamed: 3, Length: 272800, dtype: object"
      ]
     },
     "execution_count": 9,
     "metadata": {},
     "output_type": "execute_result"
    }
   ],
   "source": [
    "df['Unnamed: 3'][1:]"
   ]
  },
  {
   "cell_type": "code",
   "execution_count": 10,
   "metadata": {},
   "outputs": [
    {
     "data": {
      "text/plain": [
       "1          0.461799\n",
       "2         -0.332753\n",
       "3          -0.09654\n",
       "4         -0.540373\n",
       "5         -0.075062\n",
       "            ...    \n",
       "272796    20.476155\n",
       "272797    19.903498\n",
       "272798    20.333013\n",
       "272799    20.333013\n",
       "272800    20.361606\n",
       "Name: Unnamed: 3, Length: 272800, dtype: object"
      ]
     },
     "execution_count": 10,
     "metadata": {},
     "output_type": "execute_result"
    }
   ],
   "source": [
    "df['Unnamed: 3'][1:].dropna()"
   ]
  },
  {
   "cell_type": "code",
   "execution_count": 11,
   "metadata": {},
   "outputs": [
    {
     "data": {
      "text/plain": [
       "1                0\n",
       "2         0.044721\n",
       "3         0.089443\n",
       "4         0.134164\n",
       "5         0.178885\n",
       "            ...   \n",
       "272796         NaN\n",
       "272797         NaN\n",
       "272798         NaN\n",
       "272799         NaN\n",
       "272800         NaN\n",
       "Name: DL(+)4.831m, Length: 272800, dtype: object"
      ]
     },
     "execution_count": 11,
     "metadata": {},
     "output_type": "execute_result"
    }
   ],
   "source": [
    "df['DL(+)4.831m'][1:]"
   ]
  },
  {
   "cell_type": "code",
   "execution_count": 12,
   "metadata": {},
   "outputs": [
    {
     "data": {
      "text/plain": [
       "1                    0\n",
       "2             0.044721\n",
       "3             0.089443\n",
       "4             0.134164\n",
       "5             0.178885\n",
       "              ...     \n",
       "230096    10290.161226\n",
       "230097    10290.205947\n",
       "230098    10290.250668\n",
       "230099     10290.29539\n",
       "230100    10290.340111\n",
       "Name: DL(+)4.831m, Length: 230100, dtype: object"
      ]
     },
     "execution_count": 12,
     "metadata": {},
     "output_type": "execute_result"
    }
   ],
   "source": [
    "df['DL(+)4.831m'][1:].dropna()"
   ]
  },
  {
   "cell_type": "code",
   "execution_count": 13,
   "metadata": {},
   "outputs": [
    {
     "data": {
      "text/plain": [
       "1         0.067405\n",
       "2        -0.081226\n",
       "3         0.517974\n",
       "4         0.606212\n",
       "5        -0.383135\n",
       "            ...   \n",
       "272796         NaN\n",
       "272797         NaN\n",
       "272798         NaN\n",
       "272799         NaN\n",
       "272800         NaN\n",
       "Name: Unnamed: 5, Length: 272800, dtype: object"
      ]
     },
     "execution_count": 13,
     "metadata": {},
     "output_type": "execute_result"
    }
   ],
   "source": [
    "df['Unnamed: 5'][1:]"
   ]
  },
  {
   "cell_type": "code",
   "execution_count": 14,
   "metadata": {},
   "outputs": [
    {
     "data": {
      "text/plain": [
       "1          0.067405\n",
       "2         -0.081226\n",
       "3          0.517974\n",
       "4          0.606212\n",
       "5         -0.383135\n",
       "            ...    \n",
       "230096    21.610498\n",
       "230097    21.141375\n",
       "230098     21.70341\n",
       "230099    21.262133\n",
       "230100    20.974133\n",
       "Name: Unnamed: 5, Length: 230100, dtype: object"
      ]
     },
     "execution_count": 14,
     "metadata": {},
     "output_type": "execute_result"
    }
   ],
   "source": [
    "df['Unnamed: 5'][1:].dropna()"
   ]
  },
  {
   "cell_type": "code",
   "execution_count": 15,
   "metadata": {},
   "outputs": [
    {
     "data": {
      "text/plain": [
       "1         0.503018\n",
       "2          0.14934\n",
       "3        -0.657507\n",
       "4        -0.182229\n",
       "5        -0.005385\n",
       "            ...   \n",
       "272796         NaN\n",
       "272797         NaN\n",
       "272798         NaN\n",
       "272799         NaN\n",
       "272800         NaN\n",
       "Name: Unnamed: 6, Length: 272800, dtype: object"
      ]
     },
     "execution_count": 15,
     "metadata": {},
     "output_type": "execute_result"
    }
   ],
   "source": [
    "df['Unnamed: 6'][1:]"
   ]
  },
  {
   "cell_type": "code",
   "execution_count": 16,
   "metadata": {},
   "outputs": [
    {
     "data": {
      "text/plain": [
       "1          0.503018\n",
       "2           0.14934\n",
       "3         -0.657507\n",
       "4         -0.182229\n",
       "5         -0.005385\n",
       "            ...    \n",
       "230096    16.297612\n",
       "230097    15.678624\n",
       "230098    15.822334\n",
       "230099    16.286557\n",
       "230100    16.408089\n",
       "Name: Unnamed: 6, Length: 230100, dtype: object"
      ]
     },
     "execution_count": 16,
     "metadata": {},
     "output_type": "execute_result"
    }
   ],
   "source": [
    "df['Unnamed: 6'][1:].dropna()"
   ]
  },
  {
   "cell_type": "code",
   "execution_count": 17,
   "metadata": {},
   "outputs": [
    {
     "data": {
      "text/plain": [
       "1        -0.019957\n",
       "2        -0.128779\n",
       "3        -0.289112\n",
       "4        -0.415116\n",
       "5         0.123194\n",
       "            ...   \n",
       "272796         NaN\n",
       "272797         NaN\n",
       "272798         NaN\n",
       "272799         NaN\n",
       "272800         NaN\n",
       "Name: Unnamed: 7, Length: 272800, dtype: object"
      ]
     },
     "execution_count": 17,
     "metadata": {},
     "output_type": "execute_result"
    }
   ],
   "source": [
    "df['Unnamed: 7'][1:]"
   ]
  },
  {
   "cell_type": "code",
   "execution_count": 18,
   "metadata": {},
   "outputs": [
    {
     "data": {
      "text/plain": [
       "1         -0.019957\n",
       "2         -0.128779\n",
       "3         -0.289112\n",
       "4         -0.415116\n",
       "5          0.123194\n",
       "            ...    \n",
       "230096     18.31652\n",
       "230097    17.606422\n",
       "230098    17.726663\n",
       "230099    18.516946\n",
       "230100    17.629332\n",
       "Name: Unnamed: 7, Length: 230100, dtype: object"
      ]
     },
     "execution_count": 18,
     "metadata": {},
     "output_type": "execute_result"
    }
   ],
   "source": [
    "df['Unnamed: 7'][1:].dropna()"
   ]
  },
  {
   "cell_type": "code",
   "execution_count": 6,
   "metadata": {},
   "outputs": [
    {
     "data": {
      "image/png": "[encoded data removed]",
      "text/plain": [
       "<Figure size 1200x600 with 1 Axes>"
      ]
     },
     "metadata": {},
     "output_type": "display_data"
    }
   ],
   "source": [
    "import matplotlib.pyplot as plt\n",
    "\n",
    "# Plot all three channels on the same graph\n",
    "plt.figure(figsize=(12, 6))\n",
    "plt.plot(df['DL(+)3.623m'][1:].dropna(), df['Unnamed: 1'][1:].dropna(), label='Channel 1')\n",
    "plt.plot(df['DL(+)3.623m'][1:].dropna(), df['Unnamed: 2'][1:].dropna(), label='Channel 2')\n",
    "plt.plot(df['DL(+)3.623m'][1:].dropna(), df['Unnamed: 3'][1:].dropna(), label='Channel 3')\n",
    "plt.xlabel('Time')\n",
    "plt.ylabel('Pressure')\n",
    "plt.title('All Channels Pressure Over Time (DL+3.623m)')\n",
    "plt.legend()\n",
    "plt.grid(True)\n",
    "plt.show()"
   ]
  },
  {
   "cell_type": "code",
   "execution_count": 7,
   "metadata": {},
   "outputs": [
    {
     "data": {
      "image/png": "[encoded data removed]",
      "text/plain": [
       "<Figure size 1200x600 with 1 Axes>"
      ]
     },
     "metadata": {},
     "output_type": "display_data"
    }
   ],
   "source": [
    "# Plot all three channels on the same graph\n",
    "plt.figure(figsize=(12, 6))\n",
    "plt.plot(df['DL(+)4.831m'][1:].dropna(), df['Unnamed: 5'][1:].dropna(), label='Channel 1')\n",
    "plt.plot(df['DL(+)4.831m'][1:].dropna(), df['Unnamed: 6'][1:].dropna(), label='Channel 2')\n",
    "plt.plot(df['DL(+)4.831m'][1:].dropna(), df['Unnamed: 7'][1:].dropna(), label='Channel 3')\n",
    "plt.xlabel('Time')\n",
    "plt.ylabel('Pressure')\n",
    "plt.title('All Channels Pressure Over Time (DL+4.831m)')\n",
    "plt.legend()\n",
    "plt.grid(True)\n",
    "plt.show()"
   ]
  },
  {
   "cell_type": "code",
   "execution_count": 8,
   "metadata": {},
   "outputs": [],
   "source": [
    "# Select the four columns\n",
    "selected_df = df[['DL(+)3.623m', 'Unnamed: 1', 'Unnamed: 2', 'Unnamed: 3']]\n",
    "\n",
    "# Optionally, if you need to remove NaN values and slice rows as before, apply those operations:\n",
    "selected_df = selected_df[1:].dropna()\n",
    "\n",
    "# Save to a new CSV file\n",
    "selected_df.to_csv('081-3623.csv', index=False)"
   ]
  },
  {
   "cell_type": "code",
   "execution_count": 9,
   "metadata": {},
   "outputs": [
    {
     "data": {
      "text/html": [
       "<div>\n",
       "<style scoped>\n",
       "    .dataframe tbody tr th:only-of-type {\n",
       "        vertical-align: middle;\n",
       "    }\n",
       "\n",
       "    .dataframe tbody tr th {\n",
       "        vertical-align: top;\n",
       "    }\n",
       "\n",
       "    .dataframe thead th {\n",
       "        text-align: right;\n",
       "    }\n",
       "</style>\n",
       "<table border=\"1\" class=\"dataframe\">\n",
       "  <thead>\n",
       "    <tr style=\"text-align: right;\">\n",
       "      <th></th>\n",
       "      <th>DL(+)3.623m</th>\n",
       "      <th>Unnamed: 1</th>\n",
       "      <th>Unnamed: 2</th>\n",
       "      <th>Unnamed: 3</th>\n",
       "    </tr>\n",
       "  </thead>\n",
       "  <tbody>\n",
       "    <tr>\n",
       "      <th>1</th>\n",
       "      <td>0</td>\n",
       "      <td>0.092035</td>\n",
       "      <td>0.200493</td>\n",
       "      <td>0.461799</td>\n",
       "    </tr>\n",
       "    <tr>\n",
       "      <th>2</th>\n",
       "      <td>0.044721</td>\n",
       "      <td>-0.041724</td>\n",
       "      <td>-0.973885</td>\n",
       "      <td>-0.332753</td>\n",
       "    </tr>\n",
       "    <tr>\n",
       "      <th>3</th>\n",
       "      <td>0.089443</td>\n",
       "      <td>-0.415198</td>\n",
       "      <td>-0.144877</td>\n",
       "      <td>-0.09654</td>\n",
       "    </tr>\n",
       "    <tr>\n",
       "      <th>4</th>\n",
       "      <td>0.134164</td>\n",
       "      <td>0.119909</td>\n",
       "      <td>-0.006731</td>\n",
       "      <td>-0.540373</td>\n",
       "    </tr>\n",
       "    <tr>\n",
       "      <th>5</th>\n",
       "      <td>0.178885</td>\n",
       "      <td>0.09761</td>\n",
       "      <td>0.186675</td>\n",
       "      <td>-0.075062</td>\n",
       "    </tr>\n",
       "    <tr>\n",
       "      <th>...</th>\n",
       "      <td>...</td>\n",
       "      <td>...</td>\n",
       "      <td>...</td>\n",
       "      <td>...</td>\n",
       "    </tr>\n",
       "    <tr>\n",
       "      <th>272796</th>\n",
       "      <td>12199.763278</td>\n",
       "      <td>23.480084</td>\n",
       "      <td>17.719344</td>\n",
       "      <td>20.476155</td>\n",
       "    </tr>\n",
       "    <tr>\n",
       "      <th>272797</th>\n",
       "      <td>12199.808</td>\n",
       "      <td>23.050897</td>\n",
       "      <td>18.037078</td>\n",
       "      <td>19.903498</td>\n",
       "    </tr>\n",
       "    <tr>\n",
       "      <th>272798</th>\n",
       "      <td>12199.852721</td>\n",
       "      <td>22.214822</td>\n",
       "      <td>17.843623</td>\n",
       "      <td>20.333013</td>\n",
       "    </tr>\n",
       "    <tr>\n",
       "      <th>272799</th>\n",
       "      <td>12199.897442</td>\n",
       "      <td>21.963993</td>\n",
       "      <td>18.603539</td>\n",
       "      <td>20.333013</td>\n",
       "    </tr>\n",
       "    <tr>\n",
       "      <th>272800</th>\n",
       "      <td>12199.942164</td>\n",
       "      <td>23.240404</td>\n",
       "      <td>17.885077</td>\n",
       "      <td>20.361606</td>\n",
       "    </tr>\n",
       "  </tbody>\n",
       "</table>\n",
       "<p>272800 rows × 4 columns</p>\n",
       "</div>"
      ],
      "text/plain": [
       "         DL(+)3.623m Unnamed: 1 Unnamed: 2 Unnamed: 3\n",
       "1                  0   0.092035   0.200493   0.461799\n",
       "2           0.044721  -0.041724  -0.973885  -0.332753\n",
       "3           0.089443  -0.415198  -0.144877   -0.09654\n",
       "4           0.134164   0.119909  -0.006731  -0.540373\n",
       "5           0.178885    0.09761   0.186675  -0.075062\n",
       "...              ...        ...        ...        ...\n",
       "272796  12199.763278  23.480084  17.719344  20.476155\n",
       "272797     12199.808  23.050897  18.037078  19.903498\n",
       "272798  12199.852721  22.214822  17.843623  20.333013\n",
       "272799  12199.897442  21.963993  18.603539  20.333013\n",
       "272800  12199.942164  23.240404  17.885077  20.361606\n",
       "\n",
       "[272800 rows x 4 columns]"
      ]
     },
     "execution_count": 9,
     "metadata": {},
     "output_type": "execute_result"
    }
   ],
   "source": [
    "selected_df"
   ]
  },
  {
   "cell_type": "code",
   "execution_count": 10,
   "metadata": {},
   "outputs": [],
   "source": [
    "# Select the four columns\n",
    "selected_df = df[['DL(+)4.831m', 'Unnamed: 5', 'Unnamed: 6', 'Unnamed: 7']]\n",
    "\n",
    "# Optionally, if you need to remove NaN values and slice rows as before, apply those operations:\n",
    "selected_df = selected_df[1:].dropna()\n",
    "\n",
    "# Save to a new CSV file\n",
    "selected_df.to_csv('081-4831.csv', index=False)"
   ]
  },
  {
   "cell_type": "code",
   "execution_count": 11,
   "metadata": {},
   "outputs": [
    {
     "data": {
      "text/html": [
       "<div>\n",
       "<style scoped>\n",
       "    .dataframe tbody tr th:only-of-type {\n",
       "        vertical-align: middle;\n",
       "    }\n",
       "\n",
       "    .dataframe tbody tr th {\n",
       "        vertical-align: top;\n",
       "    }\n",
       "\n",
       "    .dataframe thead th {\n",
       "        text-align: right;\n",
       "    }\n",
       "</style>\n",
       "<table border=\"1\" class=\"dataframe\">\n",
       "  <thead>\n",
       "    <tr style=\"text-align: right;\">\n",
       "      <th></th>\n",
       "      <th>DL(+)4.831m</th>\n",
       "      <th>Unnamed: 5</th>\n",
       "      <th>Unnamed: 6</th>\n",
       "      <th>Unnamed: 7</th>\n",
       "    </tr>\n",
       "  </thead>\n",
       "  <tbody>\n",
       "    <tr>\n",
       "      <th>1</th>\n",
       "      <td>0</td>\n",
       "      <td>0.067405</td>\n",
       "      <td>0.503018</td>\n",
       "      <td>-0.019957</td>\n",
       "    </tr>\n",
       "    <tr>\n",
       "      <th>2</th>\n",
       "      <td>0.044721</td>\n",
       "      <td>-0.081226</td>\n",
       "      <td>0.14934</td>\n",
       "      <td>-0.128779</td>\n",
       "    </tr>\n",
       "    <tr>\n",
       "      <th>3</th>\n",
       "      <td>0.089443</td>\n",
       "      <td>0.517974</td>\n",
       "      <td>-0.657507</td>\n",
       "      <td>-0.289112</td>\n",
       "    </tr>\n",
       "    <tr>\n",
       "      <th>4</th>\n",
       "      <td>0.134164</td>\n",
       "      <td>0.606212</td>\n",
       "      <td>-0.182229</td>\n",
       "      <td>-0.415116</td>\n",
       "    </tr>\n",
       "    <tr>\n",
       "      <th>5</th>\n",
       "      <td>0.178885</td>\n",
       "      <td>-0.383135</td>\n",
       "      <td>-0.005385</td>\n",
       "      <td>0.123194</td>\n",
       "    </tr>\n",
       "    <tr>\n",
       "      <th>...</th>\n",
       "      <td>...</td>\n",
       "      <td>...</td>\n",
       "      <td>...</td>\n",
       "      <td>...</td>\n",
       "    </tr>\n",
       "    <tr>\n",
       "      <th>230096</th>\n",
       "      <td>10290.161226</td>\n",
       "      <td>21.610498</td>\n",
       "      <td>16.297612</td>\n",
       "      <td>18.31652</td>\n",
       "    </tr>\n",
       "    <tr>\n",
       "      <th>230097</th>\n",
       "      <td>10290.205947</td>\n",
       "      <td>21.141375</td>\n",
       "      <td>15.678624</td>\n",
       "      <td>17.606422</td>\n",
       "    </tr>\n",
       "    <tr>\n",
       "      <th>230098</th>\n",
       "      <td>10290.250668</td>\n",
       "      <td>21.70341</td>\n",
       "      <td>15.822334</td>\n",
       "      <td>17.726663</td>\n",
       "    </tr>\n",
       "    <tr>\n",
       "      <th>230099</th>\n",
       "      <td>10290.29539</td>\n",
       "      <td>21.262133</td>\n",
       "      <td>16.286557</td>\n",
       "      <td>18.516946</td>\n",
       "    </tr>\n",
       "    <tr>\n",
       "      <th>230100</th>\n",
       "      <td>10290.340111</td>\n",
       "      <td>20.974133</td>\n",
       "      <td>16.408089</td>\n",
       "      <td>17.629332</td>\n",
       "    </tr>\n",
       "  </tbody>\n",
       "</table>\n",
       "<p>230100 rows × 4 columns</p>\n",
       "</div>"
      ],
      "text/plain": [
       "         DL(+)4.831m Unnamed: 5 Unnamed: 6 Unnamed: 7\n",
       "1                  0   0.067405   0.503018  -0.019957\n",
       "2           0.044721  -0.081226    0.14934  -0.128779\n",
       "3           0.089443   0.517974  -0.657507  -0.289112\n",
       "4           0.134164   0.606212  -0.182229  -0.415116\n",
       "5           0.178885  -0.383135  -0.005385   0.123194\n",
       "...              ...        ...        ...        ...\n",
       "230096  10290.161226  21.610498  16.297612   18.31652\n",
       "230097  10290.205947  21.141375  15.678624  17.606422\n",
       "230098  10290.250668   21.70341  15.822334  17.726663\n",
       "230099   10290.29539  21.262133  16.286557  18.516946\n",
       "230100  10290.340111  20.974133  16.408089  17.629332\n",
       "\n",
       "[230100 rows x 4 columns]"
      ]
     },
     "execution_count": 11,
     "metadata": {},
     "output_type": "execute_result"
    }
   ],
   "source": [
    "selected_df"
   ]
  }
 ],
 "metadata": {
  "kernelspec": {
   "display_name": "datasci-python312",
   "language": "python",
   "name": "python3"
  },
  "language_info": {
   "codemirror_mode": {
    "name": "ipython",
    "version": 3
   },
   "file_extension": ".py",
   "mimetype": "text/x-python",
   "name": "python",
   "nbconvert_exporter": "python",
   "pygments_lexer": "ipython3",
   "version": "3.9.20"
  }
 },
 "nbformat": 4,
 "nbformat_minor": 2
}
