{
 "cells": [
  {
   "cell_type": "code",
   "execution_count": 1,
   "metadata": {},
   "outputs": [],
   "source": [
    "import pandas as pd\n",
    "df = pd.read_excel('/Users/vinny/Downloads/Shared Files from Google Drive/수압 filter mat 0.13.xlsx', skiprows=1)"
   ]
  },
  {
   "cell_type": "code",
   "execution_count": 2,
   "metadata": {},
   "outputs": [
    {
     "data": {
      "text/html": [
       "<div>\n",
       "<style scoped>\n",
       "    .dataframe tbody tr th:only-of-type {\n",
       "        vertical-align: middle;\n",
       "    }\n",
       "\n",
       "    .dataframe tbody tr th {\n",
       "        vertical-align: top;\n",
       "    }\n",
       "\n",
       "    .dataframe thead th {\n",
       "        text-align: right;\n",
       "    }\n",
       "</style>\n",
       "<table border=\"1\" class=\"dataframe\">\n",
       "  <thead>\n",
       "    <tr style=\"text-align: right;\">\n",
       "      <th></th>\n",
       "      <th>DL(+)3.623m</th>\n",
       "      <th>Unnamed: 1</th>\n",
       "      <th>Unnamed: 2</th>\n",
       "      <th>Unnamed: 3</th>\n",
       "      <th>DL(+)4.831m</th>\n",
       "      <th>Unnamed: 5</th>\n",
       "      <th>Unnamed: 6</th>\n",
       "      <th>Unnamed: 7</th>\n",
       "    </tr>\n",
       "  </thead>\n",
       "  <tbody>\n",
       "    <tr>\n",
       "      <th>0</th>\n",
       "      <td>time</td>\n",
       "      <td>ch.1</td>\n",
       "      <td>ch.2</td>\n",
       "      <td>ch.3</td>\n",
       "      <td>time</td>\n",
       "      <td>ch.1</td>\n",
       "      <td>ch.2</td>\n",
       "      <td>ch.3</td>\n",
       "    </tr>\n",
       "    <tr>\n",
       "      <th>1</th>\n",
       "      <td>0</td>\n",
       "      <td>-0.424945</td>\n",
       "      <td>-0.524852</td>\n",
       "      <td>0.415259</td>\n",
       "      <td>0</td>\n",
       "      <td>-0.578222</td>\n",
       "      <td>0.116176</td>\n",
       "      <td>0.054464</td>\n",
       "    </tr>\n",
       "    <tr>\n",
       "      <th>2</th>\n",
       "      <td>0.044721</td>\n",
       "      <td>0.099924</td>\n",
       "      <td>-0.182229</td>\n",
       "      <td>0.587047</td>\n",
       "      <td>0.044721</td>\n",
       "      <td>-0.541086</td>\n",
       "      <td>0.171449</td>\n",
       "      <td>0.077374</td>\n",
       "    </tr>\n",
       "    <tr>\n",
       "      <th>3</th>\n",
       "      <td>0.089443</td>\n",
       "      <td>-0.610742</td>\n",
       "      <td>-0.867476</td>\n",
       "      <td>0.398076</td>\n",
       "      <td>0.089443</td>\n",
       "      <td>0.582983</td>\n",
       "      <td>-0.01641</td>\n",
       "      <td>0.655776</td>\n",
       "    </tr>\n",
       "    <tr>\n",
       "      <th>4</th>\n",
       "      <td>0.134164</td>\n",
       "      <td>0.085987</td>\n",
       "      <td>0.458868</td>\n",
       "      <td>0.060192</td>\n",
       "      <td>0.134164</td>\n",
       "      <td>-0.053353</td>\n",
       "      <td>-0.325939</td>\n",
       "      <td>-0.277657</td>\n",
       "    </tr>\n",
       "    <tr>\n",
       "      <th>...</th>\n",
       "      <td>...</td>\n",
       "      <td>...</td>\n",
       "      <td>...</td>\n",
       "      <td>...</td>\n",
       "      <td>...</td>\n",
       "      <td>...</td>\n",
       "      <td>...</td>\n",
       "      <td>...</td>\n",
       "    </tr>\n",
       "    <tr>\n",
       "      <th>291396</th>\n",
       "      <td>13031.580566</td>\n",
       "      <td>29.831996</td>\n",
       "      <td>19.723983</td>\n",
       "      <td>41.469008</td>\n",
       "      <td>NaN</td>\n",
       "      <td>NaN</td>\n",
       "      <td>NaN</td>\n",
       "      <td>NaN</td>\n",
       "    </tr>\n",
       "    <tr>\n",
       "      <th>291397</th>\n",
       "      <td>13031.625287</td>\n",
       "      <td>29.576515</td>\n",
       "      <td>19.889802</td>\n",
       "      <td>41.812584</td>\n",
       "      <td>NaN</td>\n",
       "      <td>NaN</td>\n",
       "      <td>NaN</td>\n",
       "      <td>NaN</td>\n",
       "    </tr>\n",
       "    <tr>\n",
       "      <th>291398</th>\n",
       "      <td>13031.670009</td>\n",
       "      <td>29.952754</td>\n",
       "      <td>20.210316</td>\n",
       "      <td>41.394551</td>\n",
       "      <td>NaN</td>\n",
       "      <td>NaN</td>\n",
       "      <td>NaN</td>\n",
       "      <td>NaN</td>\n",
       "    </tr>\n",
       "    <tr>\n",
       "      <th>291399</th>\n",
       "      <td>13031.71473</td>\n",
       "      <td>29.720501</td>\n",
       "      <td>19.856638</td>\n",
       "      <td>41.520555</td>\n",
       "      <td>NaN</td>\n",
       "      <td>NaN</td>\n",
       "      <td>NaN</td>\n",
       "      <td>NaN</td>\n",
       "    </tr>\n",
       "    <tr>\n",
       "      <th>291400</th>\n",
       "      <td>13031.759452</td>\n",
       "      <td>29.362845</td>\n",
       "      <td>19.701874</td>\n",
       "      <td>41.589249</td>\n",
       "      <td>NaN</td>\n",
       "      <td>NaN</td>\n",
       "      <td>NaN</td>\n",
       "      <td>NaN</td>\n",
       "    </tr>\n",
       "  </tbody>\n",
       "</table>\n",
       "<p>291401 rows × 8 columns</p>\n",
       "</div>"
      ],
      "text/plain": [
       "         DL(+)3.623m Unnamed: 1 Unnamed: 2 Unnamed: 3 DL(+)4.831m Unnamed: 5  \\\n",
       "0               time       ch.1       ch.2       ch.3        time       ch.1   \n",
       "1                  0  -0.424945  -0.524852   0.415259           0  -0.578222   \n",
       "2           0.044721   0.099924  -0.182229   0.587047    0.044721  -0.541086   \n",
       "3           0.089443  -0.610742  -0.867476   0.398076    0.089443   0.582983   \n",
       "4           0.134164   0.085987   0.458868   0.060192    0.134164  -0.053353   \n",
       "...              ...        ...        ...        ...         ...        ...   \n",
       "291396  13031.580566  29.831996  19.723983  41.469008         NaN        NaN   \n",
       "291397  13031.625287  29.576515  19.889802  41.812584         NaN        NaN   \n",
       "291398  13031.670009  29.952754  20.210316  41.394551         NaN        NaN   \n",
       "291399   13031.71473  29.720501  19.856638  41.520555         NaN        NaN   \n",
       "291400  13031.759452  29.362845  19.701874  41.589249         NaN        NaN   \n",
       "\n",
       "       Unnamed: 6 Unnamed: 7  \n",
       "0            ch.2       ch.3  \n",
       "1        0.116176   0.054464  \n",
       "2        0.171449   0.077374  \n",
       "3        -0.01641   0.655776  \n",
       "4       -0.325939  -0.277657  \n",
       "...           ...        ...  \n",
       "291396        NaN        NaN  \n",
       "291397        NaN        NaN  \n",
       "291398        NaN        NaN  \n",
       "291399        NaN        NaN  \n",
       "291400        NaN        NaN  \n",
       "\n",
       "[291401 rows x 8 columns]"
      ]
     },
     "execution_count": 2,
     "metadata": {},
     "output_type": "execute_result"
    }
   ],
   "source": [
    "df"
   ]
  },
  {
   "cell_type": "code",
   "execution_count": 3,
   "metadata": {},
   "outputs": [
    {
     "data": {
      "text/plain": [
       "1                    0\n",
       "2             0.044721\n",
       "3             0.089443\n",
       "4             0.134164\n",
       "5             0.178885\n",
       "              ...     \n",
       "291396    13031.580566\n",
       "291397    13031.625287\n",
       "291398    13031.670009\n",
       "291399     13031.71473\n",
       "291400    13031.759452\n",
       "Name: DL(+)3.623m, Length: 291400, dtype: object"
      ]
     },
     "execution_count": 3,
     "metadata": {},
     "output_type": "execute_result"
    }
   ],
   "source": [
    "df['DL(+)3.623m'][1:]"
   ]
  },
  {
   "cell_type": "code",
   "execution_count": 4,
   "metadata": {},
   "outputs": [
    {
     "data": {
      "text/plain": [
       "1                    0\n",
       "2             0.044721\n",
       "3             0.089443\n",
       "4             0.134164\n",
       "5             0.178885\n",
       "              ...     \n",
       "291396    13031.580566\n",
       "291397    13031.625287\n",
       "291398    13031.670009\n",
       "291399     13031.71473\n",
       "291400    13031.759452\n",
       "Name: DL(+)3.623m, Length: 291400, dtype: object"
      ]
     },
     "execution_count": 4,
     "metadata": {},
     "output_type": "execute_result"
    }
   ],
   "source": [
    "df['DL(+)3.623m'][1:].dropna()"
   ]
  },
  {
   "cell_type": "code",
   "execution_count": 5,
   "metadata": {},
   "outputs": [
    {
     "data": {
      "text/plain": [
       "1         -0.424945\n",
       "2          0.099924\n",
       "3         -0.610742\n",
       "4          0.085987\n",
       "5         -0.359935\n",
       "            ...    \n",
       "291396    29.831996\n",
       "291397    29.576515\n",
       "291398    29.952754\n",
       "291399    29.720501\n",
       "291400    29.362845\n",
       "Name: Unnamed: 1, Length: 291400, dtype: object"
      ]
     },
     "execution_count": 5,
     "metadata": {},
     "output_type": "execute_result"
    }
   ],
   "source": [
    "df['Unnamed: 1'][1:]"
   ]
  },
  {
   "cell_type": "code",
   "execution_count": 6,
   "metadata": {},
   "outputs": [
    {
     "data": {
      "text/plain": [
       "1         -0.424945\n",
       "2          0.099924\n",
       "3         -0.610742\n",
       "4          0.085987\n",
       "5         -0.359935\n",
       "            ...    \n",
       "291396    29.831996\n",
       "291397    29.576515\n",
       "291398    29.952754\n",
       "291399    29.720501\n",
       "291400    29.362845\n",
       "Name: Unnamed: 1, Length: 291400, dtype: object"
      ]
     },
     "execution_count": 6,
     "metadata": {},
     "output_type": "execute_result"
    }
   ],
   "source": [
    "df['Unnamed: 1'][1:].dropna()"
   ]
  },
  {
   "cell_type": "code",
   "execution_count": 7,
   "metadata": {},
   "outputs": [
    {
     "data": {
      "text/plain": [
       "1         -0.524852\n",
       "2         -0.182229\n",
       "3         -0.867476\n",
       "4          0.458868\n",
       "5         -0.723835\n",
       "            ...    \n",
       "291396    19.723983\n",
       "291397    19.889802\n",
       "291398    20.210316\n",
       "291399    19.856638\n",
       "291400    19.701874\n",
       "Name: Unnamed: 2, Length: 291400, dtype: object"
      ]
     },
     "execution_count": 7,
     "metadata": {},
     "output_type": "execute_result"
    }
   ],
   "source": [
    "df['Unnamed: 2'][1:]"
   ]
  },
  {
   "cell_type": "code",
   "execution_count": 8,
   "metadata": {},
   "outputs": [
    {
     "data": {
      "text/plain": [
       "1         -0.524852\n",
       "2         -0.182229\n",
       "3         -0.867476\n",
       "4          0.458868\n",
       "5         -0.723835\n",
       "            ...    \n",
       "291396    19.723983\n",
       "291397    19.889802\n",
       "291398    20.210316\n",
       "291399    19.856638\n",
       "291400    19.701874\n",
       "Name: Unnamed: 2, Length: 291400, dtype: object"
      ]
     },
     "execution_count": 8,
     "metadata": {},
     "output_type": "execute_result"
    }
   ],
   "source": [
    "df['Unnamed: 2'][1:].dropna()"
   ]
  },
  {
   "cell_type": "code",
   "execution_count": 9,
   "metadata": {},
   "outputs": [
    {
     "data": {
      "text/plain": [
       "1          0.415259\n",
       "2          0.587047\n",
       "3          0.398076\n",
       "4          0.060192\n",
       "5          0.335074\n",
       "            ...    \n",
       "291396    41.469008\n",
       "291397    41.812584\n",
       "291398    41.394551\n",
       "291399    41.520555\n",
       "291400    41.589249\n",
       "Name: Unnamed: 3, Length: 291400, dtype: object"
      ]
     },
     "execution_count": 9,
     "metadata": {},
     "output_type": "execute_result"
    }
   ],
   "source": [
    "df['Unnamed: 3'][1:]"
   ]
  },
  {
   "cell_type": "code",
   "execution_count": 10,
   "metadata": {},
   "outputs": [
    {
     "data": {
      "text/plain": [
       "1          0.415259\n",
       "2          0.587047\n",
       "3          0.398076\n",
       "4          0.060192\n",
       "5          0.335074\n",
       "            ...    \n",
       "291396    41.469008\n",
       "291397    41.812584\n",
       "291398    41.394551\n",
       "291399    41.520555\n",
       "291400    41.589249\n",
       "Name: Unnamed: 3, Length: 291400, dtype: object"
      ]
     },
     "execution_count": 10,
     "metadata": {},
     "output_type": "execute_result"
    }
   ],
   "source": [
    "df['Unnamed: 3'][1:].dropna()"
   ]
  },
  {
   "cell_type": "code",
   "execution_count": 11,
   "metadata": {},
   "outputs": [
    {
     "data": {
      "text/plain": [
       "1                0\n",
       "2         0.044721\n",
       "3         0.089443\n",
       "4         0.134164\n",
       "5         0.178885\n",
       "            ...   \n",
       "291396         NaN\n",
       "291397         NaN\n",
       "291398         NaN\n",
       "291399         NaN\n",
       "291400         NaN\n",
       "Name: DL(+)4.831m, Length: 291400, dtype: object"
      ]
     },
     "execution_count": 11,
     "metadata": {},
     "output_type": "execute_result"
    }
   ],
   "source": [
    "df['DL(+)4.831m'][1:]"
   ]
  },
  {
   "cell_type": "code",
   "execution_count": 12,
   "metadata": {},
   "outputs": [
    {
     "data": {
      "text/plain": [
       "1                   0\n",
       "2            0.044721\n",
       "3            0.089443\n",
       "4            0.134164\n",
       "5            0.178885\n",
       "             ...     \n",
       "202196    9042.435294\n",
       "202197    9042.480016\n",
       "202198    9042.524737\n",
       "202199    9042.569458\n",
       "202200     9042.61418\n",
       "Name: DL(+)4.831m, Length: 202200, dtype: object"
      ]
     },
     "execution_count": 12,
     "metadata": {},
     "output_type": "execute_result"
    }
   ],
   "source": [
    "df['DL(+)4.831m'][1:].dropna()"
   ]
  },
  {
   "cell_type": "code",
   "execution_count": 13,
   "metadata": {},
   "outputs": [
    {
     "data": {
      "text/plain": [
       "1        -0.578222\n",
       "2        -0.541086\n",
       "3         0.582983\n",
       "4        -0.053353\n",
       "5         -0.24844\n",
       "            ...   \n",
       "291396         NaN\n",
       "291397         NaN\n",
       "291398         NaN\n",
       "291399         NaN\n",
       "291400         NaN\n",
       "Name: Unnamed: 5, Length: 291400, dtype: object"
      ]
     },
     "execution_count": 13,
     "metadata": {},
     "output_type": "execute_result"
    }
   ],
   "source": [
    "df['Unnamed: 5'][1:]"
   ]
  },
  {
   "cell_type": "code",
   "execution_count": 14,
   "metadata": {},
   "outputs": [
    {
     "data": {
      "text/plain": [
       "1         -0.578222\n",
       "2         -0.541086\n",
       "3          0.582983\n",
       "4         -0.053353\n",
       "5          -0.24844\n",
       "            ...    \n",
       "202196    13.240368\n",
       "202197    13.816339\n",
       "202198    14.192578\n",
       "202199    13.862796\n",
       "202200    13.435455\n",
       "Name: Unnamed: 5, Length: 202200, dtype: object"
      ]
     },
     "execution_count": 14,
     "metadata": {},
     "output_type": "execute_result"
    }
   ],
   "source": [
    "df['Unnamed: 5'][1:].dropna()"
   ]
  },
  {
   "cell_type": "code",
   "execution_count": 15,
   "metadata": {},
   "outputs": [
    {
     "data": {
      "text/plain": [
       "1         0.116176\n",
       "2         0.171449\n",
       "3         -0.01641\n",
       "4        -0.325939\n",
       "5         0.525127\n",
       "            ...   \n",
       "291396         NaN\n",
       "291397         NaN\n",
       "291398         NaN\n",
       "291399         NaN\n",
       "291400         NaN\n",
       "Name: Unnamed: 6, Length: 291400, dtype: object"
      ]
     },
     "execution_count": 15,
     "metadata": {},
     "output_type": "execute_result"
    }
   ],
   "source": [
    "df['Unnamed: 6'][1:]"
   ]
  },
  {
   "cell_type": "code",
   "execution_count": 16,
   "metadata": {},
   "outputs": [
    {
     "data": {
      "text/plain": [
       "1          0.116176\n",
       "2          0.171449\n",
       "3          -0.01641\n",
       "4         -0.325939\n",
       "5          0.525127\n",
       "            ...    \n",
       "202196    13.379614\n",
       "202197    13.213864\n",
       "202198    13.025936\n",
       "202199     13.49016\n",
       "202200    13.412778\n",
       "Name: Unnamed: 6, Length: 202200, dtype: object"
      ]
     },
     "execution_count": 16,
     "metadata": {},
     "output_type": "execute_result"
    }
   ],
   "source": [
    "df['Unnamed: 6'][1:].dropna()"
   ]
  },
  {
   "cell_type": "code",
   "execution_count": 17,
   "metadata": {},
   "outputs": [
    {
     "data": {
      "text/plain": [
       "1         0.054464\n",
       "2         0.077374\n",
       "3         0.655776\n",
       "4        -0.277657\n",
       "5        -0.323477\n",
       "            ...   \n",
       "291396         NaN\n",
       "291397         NaN\n",
       "291398         NaN\n",
       "291399         NaN\n",
       "291400         NaN\n",
       "Name: Unnamed: 7, Length: 291400, dtype: object"
      ]
     },
     "execution_count": 17,
     "metadata": {},
     "output_type": "execute_result"
    }
   ],
   "source": [
    "df['Unnamed: 7'][1:]"
   ]
  },
  {
   "cell_type": "code",
   "execution_count": 18,
   "metadata": {},
   "outputs": [
    {
     "data": {
      "text/plain": [
       "1          0.054464\n",
       "2          0.077374\n",
       "3          0.655776\n",
       "4         -0.277657\n",
       "5         -0.323477\n",
       "            ...    \n",
       "202196    48.873438\n",
       "202197    48.598592\n",
       "202198    48.850529\n",
       "202199    48.718833\n",
       "202200    49.085319\n",
       "Name: Unnamed: 7, Length: 202200, dtype: object"
      ]
     },
     "execution_count": 18,
     "metadata": {},
     "output_type": "execute_result"
    }
   ],
   "source": [
    "df['Unnamed: 7'][1:].dropna()"
   ]
  },
  {
   "cell_type": "code",
   "execution_count": 19,
   "metadata": {},
   "outputs": [
    {
     "data": {
      "image/png": "[encoded data removed]",
      "text/plain": [
       "<Figure size 1200x600 with 1 Axes>"
      ]
     },
     "metadata": {},
     "output_type": "display_data"
    }
   ],
   "source": [
    "import matplotlib.pyplot as plt\n",
    "\n",
    "# Plot all three channels on the same graph\n",
    "plt.figure(figsize=(12, 6))\n",
    "plt.plot(df['DL(+)3.623m'][1:].dropna(), df['Unnamed: 1'][1:].dropna(), label='Channel 1')\n",
    "plt.plot(df['DL(+)3.623m'][1:].dropna(), df['Unnamed: 2'][1:].dropna(), label='Channel 2')\n",
    "plt.plot(df['DL(+)3.623m'][1:].dropna(), df['Unnamed: 3'][1:].dropna(), label='Channel 3')\n",
    "plt.xlabel('Time')\n",
    "plt.ylabel('Pressure')\n",
    "plt.title('All Channels Pressure Over Time (DL+3.623m)')\n",
    "plt.legend()\n",
    "plt.grid(True)\n",
    "plt.show()"
   ]
  },
  {
   "cell_type": "code",
   "execution_count": 20,
   "metadata": {},
   "outputs": [
    {
     "data": {
      "image/png": "[encoded data removed]",
      "text/plain": [
       "<Figure size 1200x600 with 1 Axes>"
      ]
     },
     "metadata": {},
     "output_type": "display_data"
    }
   ],
   "source": [
    "# Plot all three channels on the same graph\n",
    "plt.figure(figsize=(12, 6))\n",
    "plt.plot(df['DL(+)4.831m'][1:].dropna(), df['Unnamed: 5'][1:202201].dropna(), label='Channel 1')\n",
    "plt.plot(df['DL(+)4.831m'][1:].dropna(), df['Unnamed: 6'][1:202201].dropna(), label='Channel 2')\n",
    "plt.plot(df['DL(+)4.831m'][1:].dropna(), df['Unnamed: 7'][1:202201].dropna(), label='Channel 3')\n",
    "plt.xlabel('Time')\n",
    "plt.ylabel('Pressure')\n",
    "plt.title('All Channels Pressure Over Time (DL+4.831m)')\n",
    "plt.legend()\n",
    "plt.grid(True)\n",
    "plt.show()"
   ]
  },
  {
   "cell_type": "code",
   "execution_count": 4,
   "metadata": {},
   "outputs": [],
   "source": [
    "# Select the four columns\n",
    "selected_df = df[['DL(+)3.623m', 'Unnamed: 1', 'Unnamed: 2', 'Unnamed: 3']]\n",
    "\n",
    "# Optionally, if you need to remove NaN values and slice rows as before, apply those operations:\n",
    "selected_df = selected_df[1:].dropna()\n",
    "\n",
    "# Save to a new CSV file\n",
    "selected_df.to_csv('013-3623.csv', index=False)"
   ]
  },
  {
   "cell_type": "code",
   "execution_count": 5,
   "metadata": {},
   "outputs": [
    {
     "data": {
      "text/html": [
       "<div>\n",
       "<style scoped>\n",
       "    .dataframe tbody tr th:only-of-type {\n",
       "        vertical-align: middle;\n",
       "    }\n",
       "\n",
       "    .dataframe tbody tr th {\n",
       "        vertical-align: top;\n",
       "    }\n",
       "\n",
       "    .dataframe thead th {\n",
       "        text-align: right;\n",
       "    }\n",
       "</style>\n",
       "<table border=\"1\" class=\"dataframe\">\n",
       "  <thead>\n",
       "    <tr style=\"text-align: right;\">\n",
       "      <th></th>\n",
       "      <th>DL(+)3.623m</th>\n",
       "      <th>Unnamed: 1</th>\n",
       "      <th>Unnamed: 2</th>\n",
       "      <th>Unnamed: 3</th>\n",
       "    </tr>\n",
       "  </thead>\n",
       "  <tbody>\n",
       "    <tr>\n",
       "      <th>1</th>\n",
       "      <td>0</td>\n",
       "      <td>-0.424945</td>\n",
       "      <td>-0.524852</td>\n",
       "      <td>0.415259</td>\n",
       "    </tr>\n",
       "    <tr>\n",
       "      <th>2</th>\n",
       "      <td>0.044721</td>\n",
       "      <td>0.099924</td>\n",
       "      <td>-0.182229</td>\n",
       "      <td>0.587047</td>\n",
       "    </tr>\n",
       "    <tr>\n",
       "      <th>3</th>\n",
       "      <td>0.089443</td>\n",
       "      <td>-0.610742</td>\n",
       "      <td>-0.867476</td>\n",
       "      <td>0.398076</td>\n",
       "    </tr>\n",
       "    <tr>\n",
       "      <th>4</th>\n",
       "      <td>0.134164</td>\n",
       "      <td>0.085987</td>\n",
       "      <td>0.458868</td>\n",
       "      <td>0.060192</td>\n",
       "    </tr>\n",
       "    <tr>\n",
       "      <th>5</th>\n",
       "      <td>0.178885</td>\n",
       "      <td>-0.359935</td>\n",
       "      <td>-0.723835</td>\n",
       "      <td>0.335074</td>\n",
       "    </tr>\n",
       "    <tr>\n",
       "      <th>...</th>\n",
       "      <td>...</td>\n",
       "      <td>...</td>\n",
       "      <td>...</td>\n",
       "      <td>...</td>\n",
       "    </tr>\n",
       "    <tr>\n",
       "      <th>291396</th>\n",
       "      <td>13031.580566</td>\n",
       "      <td>29.831996</td>\n",
       "      <td>19.723983</td>\n",
       "      <td>41.469008</td>\n",
       "    </tr>\n",
       "    <tr>\n",
       "      <th>291397</th>\n",
       "      <td>13031.625287</td>\n",
       "      <td>29.576515</td>\n",
       "      <td>19.889802</td>\n",
       "      <td>41.812584</td>\n",
       "    </tr>\n",
       "    <tr>\n",
       "      <th>291398</th>\n",
       "      <td>13031.670009</td>\n",
       "      <td>29.952754</td>\n",
       "      <td>20.210316</td>\n",
       "      <td>41.394551</td>\n",
       "    </tr>\n",
       "    <tr>\n",
       "      <th>291399</th>\n",
       "      <td>13031.71473</td>\n",
       "      <td>29.720501</td>\n",
       "      <td>19.856638</td>\n",
       "      <td>41.520555</td>\n",
       "    </tr>\n",
       "    <tr>\n",
       "      <th>291400</th>\n",
       "      <td>13031.759452</td>\n",
       "      <td>29.362845</td>\n",
       "      <td>19.701874</td>\n",
       "      <td>41.589249</td>\n",
       "    </tr>\n",
       "  </tbody>\n",
       "</table>\n",
       "<p>291400 rows × 4 columns</p>\n",
       "</div>"
      ],
      "text/plain": [
       "         DL(+)3.623m Unnamed: 1 Unnamed: 2 Unnamed: 3\n",
       "1                  0  -0.424945  -0.524852   0.415259\n",
       "2           0.044721   0.099924  -0.182229   0.587047\n",
       "3           0.089443  -0.610742  -0.867476   0.398076\n",
       "4           0.134164   0.085987   0.458868   0.060192\n",
       "5           0.178885  -0.359935  -0.723835   0.335074\n",
       "...              ...        ...        ...        ...\n",
       "291396  13031.580566  29.831996  19.723983  41.469008\n",
       "291397  13031.625287  29.576515  19.889802  41.812584\n",
       "291398  13031.670009  29.952754  20.210316  41.394551\n",
       "291399   13031.71473  29.720501  19.856638  41.520555\n",
       "291400  13031.759452  29.362845  19.701874  41.589249\n",
       "\n",
       "[291400 rows x 4 columns]"
      ]
     },
     "execution_count": 5,
     "metadata": {},
     "output_type": "execute_result"
    }
   ],
   "source": [
    "selected_df"
   ]
  },
  {
   "cell_type": "code",
   "execution_count": 23,
   "metadata": {},
   "outputs": [],
   "source": [
    "# Select the four columns\n",
    "selected_df = df[['DL(+)4.831m', 'Unnamed: 5', 'Unnamed: 6', 'Unnamed: 7']]\n",
    "\n",
    "# Optionally, if you need to remove NaN values and slice rows as before, apply those operations:\n",
    "selected_df = selected_df[1:].dropna()\n",
    "\n",
    "# Save to a new CSV file\n",
    "selected_df.to_csv('013-4831.csv', index=False)"
   ]
  },
  {
   "cell_type": "code",
   "execution_count": 24,
   "metadata": {},
   "outputs": [
    {
     "data": {
      "text/html": [
       "<div>\n",
       "<style scoped>\n",
       "    .dataframe tbody tr th:only-of-type {\n",
       "        vertical-align: middle;\n",
       "    }\n",
       "\n",
       "    .dataframe tbody tr th {\n",
       "        vertical-align: top;\n",
       "    }\n",
       "\n",
       "    .dataframe thead th {\n",
       "        text-align: right;\n",
       "    }\n",
       "</style>\n",
       "<table border=\"1\" class=\"dataframe\">\n",
       "  <thead>\n",
       "    <tr style=\"text-align: right;\">\n",
       "      <th></th>\n",
       "      <th>DL(+)4.831m</th>\n",
       "      <th>Unnamed: 5</th>\n",
       "      <th>Unnamed: 6</th>\n",
       "      <th>Unnamed: 7</th>\n",
       "    </tr>\n",
       "  </thead>\n",
       "  <tbody>\n",
       "    <tr>\n",
       "      <th>1</th>\n",
       "      <td>0</td>\n",
       "      <td>-0.578222</td>\n",
       "      <td>0.116176</td>\n",
       "      <td>0.054464</td>\n",
       "    </tr>\n",
       "    <tr>\n",
       "      <th>2</th>\n",
       "      <td>0.044721</td>\n",
       "      <td>-0.541086</td>\n",
       "      <td>0.171449</td>\n",
       "      <td>0.077374</td>\n",
       "    </tr>\n",
       "    <tr>\n",
       "      <th>3</th>\n",
       "      <td>0.089443</td>\n",
       "      <td>0.582983</td>\n",
       "      <td>-0.01641</td>\n",
       "      <td>0.655776</td>\n",
       "    </tr>\n",
       "    <tr>\n",
       "      <th>4</th>\n",
       "      <td>0.134164</td>\n",
       "      <td>-0.053353</td>\n",
       "      <td>-0.325939</td>\n",
       "      <td>-0.277657</td>\n",
       "    </tr>\n",
       "    <tr>\n",
       "      <th>5</th>\n",
       "      <td>0.178885</td>\n",
       "      <td>-0.24844</td>\n",
       "      <td>0.525127</td>\n",
       "      <td>-0.323477</td>\n",
       "    </tr>\n",
       "    <tr>\n",
       "      <th>...</th>\n",
       "      <td>...</td>\n",
       "      <td>...</td>\n",
       "      <td>...</td>\n",
       "      <td>...</td>\n",
       "    </tr>\n",
       "    <tr>\n",
       "      <th>202196</th>\n",
       "      <td>9042.435294</td>\n",
       "      <td>13.240368</td>\n",
       "      <td>13.379614</td>\n",
       "      <td>48.873438</td>\n",
       "    </tr>\n",
       "    <tr>\n",
       "      <th>202197</th>\n",
       "      <td>9042.480016</td>\n",
       "      <td>13.816339</td>\n",
       "      <td>13.213864</td>\n",
       "      <td>48.598592</td>\n",
       "    </tr>\n",
       "    <tr>\n",
       "      <th>202198</th>\n",
       "      <td>9042.524737</td>\n",
       "      <td>14.192578</td>\n",
       "      <td>13.025936</td>\n",
       "      <td>48.850529</td>\n",
       "    </tr>\n",
       "    <tr>\n",
       "      <th>202199</th>\n",
       "      <td>9042.569458</td>\n",
       "      <td>13.862796</td>\n",
       "      <td>13.49016</td>\n",
       "      <td>48.718833</td>\n",
       "    </tr>\n",
       "    <tr>\n",
       "      <th>202200</th>\n",
       "      <td>9042.61418</td>\n",
       "      <td>13.435455</td>\n",
       "      <td>13.412778</td>\n",
       "      <td>49.085319</td>\n",
       "    </tr>\n",
       "  </tbody>\n",
       "</table>\n",
       "<p>202200 rows × 4 columns</p>\n",
       "</div>"
      ],
      "text/plain": [
       "        DL(+)4.831m Unnamed: 5 Unnamed: 6 Unnamed: 7\n",
       "1                 0  -0.578222   0.116176   0.054464\n",
       "2          0.044721  -0.541086   0.171449   0.077374\n",
       "3          0.089443   0.582983   -0.01641   0.655776\n",
       "4          0.134164  -0.053353  -0.325939  -0.277657\n",
       "5          0.178885   -0.24844   0.525127  -0.323477\n",
       "...             ...        ...        ...        ...\n",
       "202196  9042.435294  13.240368  13.379614  48.873438\n",
       "202197  9042.480016  13.816339  13.213864  48.598592\n",
       "202198  9042.524737  14.192578  13.025936  48.850529\n",
       "202199  9042.569458  13.862796   13.49016  48.718833\n",
       "202200   9042.61418  13.435455  13.412778  49.085319\n",
       "\n",
       "[202200 rows x 4 columns]"
      ]
     },
     "execution_count": 24,
     "metadata": {},
     "output_type": "execute_result"
    }
   ],
   "source": [
    "selected_df"
   ]
  }
 ],
 "metadata": {
  "kernelspec": {
   "display_name": "datasci-python312",
   "language": "python",
   "name": "python3"
  },
  "language_info": {
   "codemirror_mode": {
    "name": "ipython",
    "version": 3
   },
   "file_extension": ".py",
   "mimetype": "text/x-python",
   "name": "python",
   "nbconvert_exporter": "python",
   "pygments_lexer": "ipython3",
   "version": "3.9.20"
  }
 },
 "nbformat": 4,
 "nbformat_minor": 2
}
