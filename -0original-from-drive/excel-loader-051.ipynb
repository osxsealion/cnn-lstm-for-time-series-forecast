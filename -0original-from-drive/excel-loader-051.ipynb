{
 "cells": [
  {
   "cell_type": "code",
   "execution_count": 1,
   "metadata": {},
   "outputs": [],
   "source": [
    "import pandas as pd\n",
    "df = pd.read_excel('/Users/vinny/Downloads/Shared Files from Google Drive/수압 filter mat 0.51.xlsx', skiprows=1)"
   ]
  },
  {
   "cell_type": "code",
   "execution_count": 2,
   "metadata": {},
   "outputs": [
    {
     "data": {
      "text/html": [
       "<div>\n",
       "<style scoped>\n",
       "    .dataframe tbody tr th:only-of-type {\n",
       "        vertical-align: middle;\n",
       "    }\n",
       "\n",
       "    .dataframe tbody tr th {\n",
       "        vertical-align: top;\n",
       "    }\n",
       "\n",
       "    .dataframe thead th {\n",
       "        text-align: right;\n",
       "    }\n",
       "</style>\n",
       "<table border=\"1\" class=\"dataframe\">\n",
       "  <thead>\n",
       "    <tr style=\"text-align: right;\">\n",
       "      <th></th>\n",
       "      <th>Unnamed: 0</th>\n",
       "      <th>DL(+)3.623m</th>\n",
       "      <th>Unnamed: 2</th>\n",
       "      <th>Unnamed: 3</th>\n",
       "      <th>Unnamed: 4</th>\n",
       "      <th>DL(+)4.831m</th>\n",
       "      <th>Unnamed: 6</th>\n",
       "      <th>Unnamed: 7</th>\n",
       "      <th>Unnamed: 8</th>\n",
       "      <th>Unnamed: 9</th>\n",
       "      <th>Unnamed: 10</th>\n",
       "      <th>Unnamed: 11</th>\n",
       "      <th>Unnamed: 12</th>\n",
       "    </tr>\n",
       "  </thead>\n",
       "  <tbody>\n",
       "    <tr>\n",
       "      <th>0</th>\n",
       "      <td>time</td>\n",
       "      <td>time</td>\n",
       "      <td>ch.1</td>\n",
       "      <td>ch.2</td>\n",
       "      <td>ch.3</td>\n",
       "      <td>time</td>\n",
       "      <td>ch.1</td>\n",
       "      <td>ch.2</td>\n",
       "      <td>ch.3</td>\n",
       "      <td>NaN</td>\n",
       "      <td>NaN</td>\n",
       "      <td>NaN</td>\n",
       "      <td>NaN</td>\n",
       "    </tr>\n",
       "    <tr>\n",
       "      <th>1</th>\n",
       "      <td>0</td>\n",
       "      <td>0</td>\n",
       "      <td>-0.030124</td>\n",
       "      <td>-0.359102</td>\n",
       "      <td>0.077374</td>\n",
       "      <td>0</td>\n",
       "      <td>0.310695</td>\n",
       "      <td>0.38013</td>\n",
       "      <td>-0.145961</td>\n",
       "      <td>NaN</td>\n",
       "      <td>NaN</td>\n",
       "      <td>NaN</td>\n",
       "      <td>NaN</td>\n",
       "    </tr>\n",
       "    <tr>\n",
       "      <th>2</th>\n",
       "      <td>0.044721</td>\n",
       "      <td>0.044721</td>\n",
       "      <td>-0.545732</td>\n",
       "      <td>-0.270666</td>\n",
       "      <td>-0.369297</td>\n",
       "      <td>0.044721</td>\n",
       "      <td>-0.444112</td>\n",
       "      <td>0.311039</td>\n",
       "      <td>0.237743</td>\n",
       "      <td>NaN</td>\n",
       "      <td>NaN</td>\n",
       "      <td>NaN</td>\n",
       "      <td>NaN</td>\n",
       "    </tr>\n",
       "    <tr>\n",
       "      <th>3</th>\n",
       "      <td>0.089443</td>\n",
       "      <td>0.089443</td>\n",
       "      <td>-0.796538</td>\n",
       "      <td>0.436759</td>\n",
       "      <td>-0.065777</td>\n",
       "      <td>0.089443</td>\n",
       "      <td>-0.751813</td>\n",
       "      <td>-0.476514</td>\n",
       "      <td>0.363711</td>\n",
       "      <td>NaN</td>\n",
       "      <td>NaN</td>\n",
       "      <td>NaN</td>\n",
       "      <td>NaN</td>\n",
       "    </tr>\n",
       "    <tr>\n",
       "      <th>4</th>\n",
       "      <td>0.134164</td>\n",
       "      <td>0.134164</td>\n",
       "      <td>-0.239149</td>\n",
       "      <td>-0.248556</td>\n",
       "      <td>-0.340659</td>\n",
       "      <td>0.134164</td>\n",
       "      <td>0.444257</td>\n",
       "      <td>-0.379787</td>\n",
       "      <td>-0.535357</td>\n",
       "      <td>NaN</td>\n",
       "      <td>NaN</td>\n",
       "      <td>NaN</td>\n",
       "      <td>NaN</td>\n",
       "    </tr>\n",
       "    <tr>\n",
       "      <th>...</th>\n",
       "      <td>...</td>\n",
       "      <td>...</td>\n",
       "      <td>...</td>\n",
       "      <td>...</td>\n",
       "      <td>...</td>\n",
       "      <td>...</td>\n",
       "      <td>...</td>\n",
       "      <td>...</td>\n",
       "      <td>...</td>\n",
       "      <td>...</td>\n",
       "      <td>...</td>\n",
       "      <td>...</td>\n",
       "      <td>...</td>\n",
       "    </tr>\n",
       "    <tr>\n",
       "      <th>291396</th>\n",
       "      <td>13031.580566</td>\n",
       "      <td>NaN</td>\n",
       "      <td>NaN</td>\n",
       "      <td>NaN</td>\n",
       "      <td>NaN</td>\n",
       "      <td>NaN</td>\n",
       "      <td>NaN</td>\n",
       "      <td>NaN</td>\n",
       "      <td>NaN</td>\n",
       "      <td>NaN</td>\n",
       "      <td>NaN</td>\n",
       "      <td>NaN</td>\n",
       "      <td>NaN</td>\n",
       "    </tr>\n",
       "    <tr>\n",
       "      <th>291397</th>\n",
       "      <td>13031.625287</td>\n",
       "      <td>NaN</td>\n",
       "      <td>NaN</td>\n",
       "      <td>NaN</td>\n",
       "      <td>NaN</td>\n",
       "      <td>NaN</td>\n",
       "      <td>NaN</td>\n",
       "      <td>NaN</td>\n",
       "      <td>NaN</td>\n",
       "      <td>NaN</td>\n",
       "      <td>NaN</td>\n",
       "      <td>NaN</td>\n",
       "      <td>NaN</td>\n",
       "    </tr>\n",
       "    <tr>\n",
       "      <th>291398</th>\n",
       "      <td>13031.670009</td>\n",
       "      <td>NaN</td>\n",
       "      <td>NaN</td>\n",
       "      <td>NaN</td>\n",
       "      <td>NaN</td>\n",
       "      <td>NaN</td>\n",
       "      <td>NaN</td>\n",
       "      <td>NaN</td>\n",
       "      <td>NaN</td>\n",
       "      <td>NaN</td>\n",
       "      <td>NaN</td>\n",
       "      <td>NaN</td>\n",
       "      <td>NaN</td>\n",
       "    </tr>\n",
       "    <tr>\n",
       "      <th>291399</th>\n",
       "      <td>13031.71473</td>\n",
       "      <td>NaN</td>\n",
       "      <td>NaN</td>\n",
       "      <td>NaN</td>\n",
       "      <td>NaN</td>\n",
       "      <td>NaN</td>\n",
       "      <td>NaN</td>\n",
       "      <td>NaN</td>\n",
       "      <td>NaN</td>\n",
       "      <td>NaN</td>\n",
       "      <td>NaN</td>\n",
       "      <td>NaN</td>\n",
       "      <td>NaN</td>\n",
       "    </tr>\n",
       "    <tr>\n",
       "      <th>291400</th>\n",
       "      <td>13031.759452</td>\n",
       "      <td>NaN</td>\n",
       "      <td>NaN</td>\n",
       "      <td>NaN</td>\n",
       "      <td>NaN</td>\n",
       "      <td>NaN</td>\n",
       "      <td>NaN</td>\n",
       "      <td>NaN</td>\n",
       "      <td>NaN</td>\n",
       "      <td>NaN</td>\n",
       "      <td>NaN</td>\n",
       "      <td>NaN</td>\n",
       "      <td>NaN</td>\n",
       "    </tr>\n",
       "  </tbody>\n",
       "</table>\n",
       "<p>291401 rows × 13 columns</p>\n",
       "</div>"
      ],
      "text/plain": [
       "          Unnamed: 0 DL(+)3.623m Unnamed: 2 Unnamed: 3 Unnamed: 4 DL(+)4.831m  \\\n",
       "0               time        time       ch.1       ch.2       ch.3        time   \n",
       "1                  0           0  -0.030124  -0.359102   0.077374           0   \n",
       "2           0.044721    0.044721  -0.545732  -0.270666  -0.369297    0.044721   \n",
       "3           0.089443    0.089443  -0.796538   0.436759  -0.065777    0.089443   \n",
       "4           0.134164    0.134164  -0.239149  -0.248556  -0.340659    0.134164   \n",
       "...              ...         ...        ...        ...        ...         ...   \n",
       "291396  13031.580566         NaN        NaN        NaN        NaN         NaN   \n",
       "291397  13031.625287         NaN        NaN        NaN        NaN         NaN   \n",
       "291398  13031.670009         NaN        NaN        NaN        NaN         NaN   \n",
       "291399   13031.71473         NaN        NaN        NaN        NaN         NaN   \n",
       "291400  13031.759452         NaN        NaN        NaN        NaN         NaN   \n",
       "\n",
       "       Unnamed: 6 Unnamed: 7 Unnamed: 8  Unnamed: 9  Unnamed: 10  Unnamed: 11  \\\n",
       "0            ch.1       ch.2       ch.3         NaN          NaN          NaN   \n",
       "1        0.310695    0.38013  -0.145961         NaN          NaN          NaN   \n",
       "2       -0.444112   0.311039   0.237743         NaN          NaN          NaN   \n",
       "3       -0.751813  -0.476514   0.363711         NaN          NaN          NaN   \n",
       "4        0.444257  -0.379787  -0.535357         NaN          NaN          NaN   \n",
       "...           ...        ...        ...         ...          ...          ...   \n",
       "291396        NaN        NaN        NaN         NaN          NaN          NaN   \n",
       "291397        NaN        NaN        NaN         NaN          NaN          NaN   \n",
       "291398        NaN        NaN        NaN         NaN          NaN          NaN   \n",
       "291399        NaN        NaN        NaN         NaN          NaN          NaN   \n",
       "291400        NaN        NaN        NaN         NaN          NaN          NaN   \n",
       "\n",
       "       Unnamed: 12  \n",
       "0              NaN  \n",
       "1              NaN  \n",
       "2              NaN  \n",
       "3              NaN  \n",
       "4              NaN  \n",
       "...            ...  \n",
       "291396         NaN  \n",
       "291397         NaN  \n",
       "291398         NaN  \n",
       "291399         NaN  \n",
       "291400         NaN  \n",
       "\n",
       "[291401 rows x 13 columns]"
      ]
     },
     "execution_count": 2,
     "metadata": {},
     "output_type": "execute_result"
    }
   ],
   "source": [
    "df"
   ]
  },
  {
   "cell_type": "code",
   "execution_count": 3,
   "metadata": {},
   "outputs": [
    {
     "data": {
      "text/plain": [
       "1                0\n",
       "2         0.044721\n",
       "3         0.089443\n",
       "4         0.134164\n",
       "5         0.178885\n",
       "            ...   \n",
       "291396         NaN\n",
       "291397         NaN\n",
       "291398         NaN\n",
       "291399         NaN\n",
       "291400         NaN\n",
       "Name: DL(+)3.623m, Length: 291400, dtype: object"
      ]
     },
     "execution_count": 3,
     "metadata": {},
     "output_type": "execute_result"
    }
   ],
   "source": [
    "df['DL(+)3.623m'][1:]"
   ]
  },
  {
   "cell_type": "code",
   "execution_count": 4,
   "metadata": {},
   "outputs": [
    {
     "data": {
      "text/plain": [
       "1                    0\n",
       "2             0.044721\n",
       "3             0.089443\n",
       "4             0.134164\n",
       "5             0.178885\n",
       "              ...     \n",
       "248896    11130.922785\n",
       "248897    11130.967507\n",
       "248898    11131.012228\n",
       "248899    11131.056949\n",
       "248900    11131.101671\n",
       "Name: DL(+)3.623m, Length: 248900, dtype: object"
      ]
     },
     "execution_count": 4,
     "metadata": {},
     "output_type": "execute_result"
    }
   ],
   "source": [
    "df['DL(+)3.623m'][1:].dropna()"
   ]
  },
  {
   "cell_type": "code",
   "execution_count": 9,
   "metadata": {},
   "outputs": [
    {
     "data": {
      "text/plain": [
       "1        -0.030124\n",
       "2        -0.545732\n",
       "3        -0.796538\n",
       "4        -0.239149\n",
       "5        -0.039416\n",
       "            ...   \n",
       "291396         NaN\n",
       "291397         NaN\n",
       "291398         NaN\n",
       "291399         NaN\n",
       "291400         NaN\n",
       "Name: Unnamed: 2, Length: 291400, dtype: object"
      ]
     },
     "execution_count": 9,
     "metadata": {},
     "output_type": "execute_result"
    }
   ],
   "source": [
    "df['Unnamed: 2'][1:]"
   ]
  },
  {
   "cell_type": "code",
   "execution_count": 10,
   "metadata": {},
   "outputs": [
    {
     "data": {
      "text/plain": [
       "1         -0.030124\n",
       "2         -0.545732\n",
       "3         -0.796538\n",
       "4         -0.239149\n",
       "5         -0.039416\n",
       "            ...    \n",
       "248896    23.217626\n",
       "248897    22.390848\n",
       "248898     23.27802\n",
       "248899    23.584574\n",
       "248900    22.869262\n",
       "Name: Unnamed: 2, Length: 248900, dtype: object"
      ]
     },
     "execution_count": 10,
     "metadata": {},
     "output_type": "execute_result"
    }
   ],
   "source": [
    "df['Unnamed: 2'][1:].dropna()"
   ]
  },
  {
   "cell_type": "code",
   "execution_count": 11,
   "metadata": {},
   "outputs": [
    {
     "data": {
      "text/plain": [
       "1        -0.359102\n",
       "2        -0.270666\n",
       "3         0.436759\n",
       "4        -0.248556\n",
       "5        -0.237502\n",
       "            ...   \n",
       "291396         NaN\n",
       "291397         NaN\n",
       "291398         NaN\n",
       "291399         NaN\n",
       "291400         NaN\n",
       "Name: Unnamed: 3, Length: 291400, dtype: object"
      ]
     },
     "execution_count": 11,
     "metadata": {},
     "output_type": "execute_result"
    }
   ],
   "source": [
    "df['Unnamed: 3'][1:]"
   ]
  },
  {
   "cell_type": "code",
   "execution_count": 12,
   "metadata": {},
   "outputs": [
    {
     "data": {
      "text/plain": [
       "1         -0.359102\n",
       "2         -0.270666\n",
       "3          0.436759\n",
       "4         -0.248556\n",
       "5         -0.237502\n",
       "            ...    \n",
       "248896    17.612901\n",
       "248897    18.032907\n",
       "248898    17.955525\n",
       "248899    17.966579\n",
       "248900    17.259223\n",
       "Name: Unnamed: 3, Length: 248900, dtype: object"
      ]
     },
     "execution_count": 12,
     "metadata": {},
     "output_type": "execute_result"
    }
   ],
   "source": [
    "df['Unnamed: 3'][1:].dropna()"
   ]
  },
  {
   "cell_type": "code",
   "execution_count": null,
   "metadata": {},
   "outputs": [
    {
     "data": {
      "text/plain": [
       "1          0.415259\n",
       "2          0.587047\n",
       "3          0.398076\n",
       "4          0.060192\n",
       "5          0.335074\n",
       "            ...    \n",
       "291396    41.469008\n",
       "291397    41.812584\n",
       "291398    41.394551\n",
       "291399    41.520555\n",
       "291400    41.589249\n",
       "Name: Unnamed: 3, Length: 291400, dtype: object"
      ]
     },
     "execution_count": 9,
     "metadata": {},
     "output_type": "execute_result"
    }
   ],
   "source": [
    "df['Unnamed: 4'][1:]"
   ]
  },
  {
   "cell_type": "code",
   "execution_count": null,
   "metadata": {},
   "outputs": [
    {
     "data": {
      "text/plain": [
       "1          0.415259\n",
       "2          0.587047\n",
       "3          0.398076\n",
       "4          0.060192\n",
       "5          0.335074\n",
       "            ...    \n",
       "291396    41.469008\n",
       "291397    41.812584\n",
       "291398    41.394551\n",
       "291399    41.520555\n",
       "291400    41.589249\n",
       "Name: Unnamed: 3, Length: 291400, dtype: object"
      ]
     },
     "execution_count": 10,
     "metadata": {},
     "output_type": "execute_result"
    }
   ],
   "source": [
    "df['Unnamed: 4'][1:].dropna()"
   ]
  },
  {
   "cell_type": "code",
   "execution_count": 13,
   "metadata": {},
   "outputs": [
    {
     "data": {
      "text/plain": [
       "1                0\n",
       "2         0.044721\n",
       "3         0.089443\n",
       "4         0.134164\n",
       "5         0.178885\n",
       "            ...   \n",
       "291396         NaN\n",
       "291397         NaN\n",
       "291398         NaN\n",
       "291399         NaN\n",
       "291400         NaN\n",
       "Name: DL(+)4.831m, Length: 291400, dtype: object"
      ]
     },
     "execution_count": 13,
     "metadata": {},
     "output_type": "execute_result"
    }
   ],
   "source": [
    "df['DL(+)4.831m'][1:]"
   ]
  },
  {
   "cell_type": "code",
   "execution_count": 14,
   "metadata": {},
   "outputs": [
    {
     "data": {
      "text/plain": [
       "1                   0\n",
       "2            0.044721\n",
       "3            0.089443\n",
       "4            0.134164\n",
       "5            0.178885\n",
       "             ...     \n",
       "198496    8876.966264\n",
       "198497    8877.010985\n",
       "198498    8877.055707\n",
       "198499    8877.100428\n",
       "198500    8877.145149\n",
       "Name: DL(+)4.831m, Length: 198500, dtype: object"
      ]
     },
     "execution_count": 14,
     "metadata": {},
     "output_type": "execute_result"
    }
   ],
   "source": [
    "df['DL(+)4.831m'][1:].dropna()"
   ]
  },
  {
   "cell_type": "code",
   "execution_count": 15,
   "metadata": {},
   "outputs": [
    {
     "data": {
      "text/plain": [
       "1         0.310695\n",
       "2        -0.444112\n",
       "3        -0.751813\n",
       "4         0.444257\n",
       "5        -0.734392\n",
       "            ...   \n",
       "291396         NaN\n",
       "291397         NaN\n",
       "291398         NaN\n",
       "291399         NaN\n",
       "291400         NaN\n",
       "Name: Unnamed: 6, Length: 291400, dtype: object"
      ]
     },
     "execution_count": 15,
     "metadata": {},
     "output_type": "execute_result"
    }
   ],
   "source": [
    "df['Unnamed: 6'][1:]"
   ]
  },
  {
   "cell_type": "code",
   "execution_count": 16,
   "metadata": {},
   "outputs": [
    {
     "data": {
      "text/plain": [
       "1          0.310695\n",
       "2         -0.444112\n",
       "3         -0.751813\n",
       "4          0.444257\n",
       "5         -0.734392\n",
       "            ...    \n",
       "198496    21.375352\n",
       "198497    20.028335\n",
       "198498    21.369545\n",
       "198499    20.905054\n",
       "198500    21.236019\n",
       "Name: Unnamed: 6, Length: 198500, dtype: object"
      ]
     },
     "execution_count": 16,
     "metadata": {},
     "output_type": "execute_result"
    }
   ],
   "source": [
    "df['Unnamed: 6'][1:].dropna()"
   ]
  },
  {
   "cell_type": "code",
   "execution_count": 17,
   "metadata": {},
   "outputs": [
    {
     "data": {
      "text/plain": [
       "1          0.38013\n",
       "2         0.311039\n",
       "3        -0.476514\n",
       "4        -0.379787\n",
       "5         0.186675\n",
       "            ...   \n",
       "291396         NaN\n",
       "291397         NaN\n",
       "291398         NaN\n",
       "291399         NaN\n",
       "291400         NaN\n",
       "Name: Unnamed: 7, Length: 291400, dtype: object"
      ]
     },
     "execution_count": 17,
     "metadata": {},
     "output_type": "execute_result"
    }
   ],
   "source": [
    "df['Unnamed: 7'][1:]"
   ]
  },
  {
   "cell_type": "code",
   "execution_count": 18,
   "metadata": {},
   "outputs": [
    {
     "data": {
      "text/plain": [
       "1           0.38013\n",
       "2          0.311039\n",
       "3         -0.476514\n",
       "4         -0.379787\n",
       "5          0.186675\n",
       "            ...    \n",
       "198496    14.583036\n",
       "198497    14.624491\n",
       "198498    14.541581\n",
       "198499    14.513945\n",
       "198500    14.320576\n",
       "Name: Unnamed: 7, Length: 198500, dtype: object"
      ]
     },
     "execution_count": 18,
     "metadata": {},
     "output_type": "execute_result"
    }
   ],
   "source": [
    "df['Unnamed: 7'][1:].dropna()"
   ]
  },
  {
   "cell_type": "code",
   "execution_count": 19,
   "metadata": {},
   "outputs": [
    {
     "data": {
      "text/plain": [
       "1        -0.145961\n",
       "2         0.237743\n",
       "3         0.363711\n",
       "4        -0.535357\n",
       "5        -0.546812\n",
       "            ...   \n",
       "291396         NaN\n",
       "291397         NaN\n",
       "291398         NaN\n",
       "291399         NaN\n",
       "291400         NaN\n",
       "Name: Unnamed: 8, Length: 291400, dtype: object"
      ]
     },
     "execution_count": 19,
     "metadata": {},
     "output_type": "execute_result"
    }
   ],
   "source": [
    "df['Unnamed: 8'][1:]"
   ]
  },
  {
   "cell_type": "code",
   "execution_count": 20,
   "metadata": {},
   "outputs": [
    {
     "data": {
      "text/plain": [
       "1         -0.145961\n",
       "2          0.237743\n",
       "3          0.363711\n",
       "4         -0.535357\n",
       "5         -0.546812\n",
       "            ...    \n",
       "198496    30.103933\n",
       "198497    30.089614\n",
       "198498    30.025225\n",
       "198499    29.874879\n",
       "198500    30.068136\n",
       "Name: Unnamed: 8, Length: 198500, dtype: object"
      ]
     },
     "execution_count": 20,
     "metadata": {},
     "output_type": "execute_result"
    }
   ],
   "source": [
    "df['Unnamed: 8'][1:].dropna()"
   ]
  },
  {
   "cell_type": "code",
   "execution_count": 5,
   "metadata": {},
   "outputs": [
    {
     "data": {
      "image/png": "[encoded data removed]",
      "text/plain": [
       "<Figure size 1200x600 with 1 Axes>"
      ]
     },
     "metadata": {},
     "output_type": "display_data"
    }
   ],
   "source": [
    "import matplotlib.pyplot as plt\n",
    "\n",
    "# Plot all three channels on the same graph\n",
    "plt.figure(figsize=(12, 6))\n",
    "plt.plot(df['DL(+)3.623m'][1:].dropna(), df['Unnamed: 2'][1:].dropna(), label='Channel 1')\n",
    "plt.plot(df['DL(+)3.623m'][1:].dropna(), df['Unnamed: 3'][1:].dropna(), label='Channel 2')\n",
    "plt.plot(df['DL(+)3.623m'][1:].dropna(), df['Unnamed: 4'][1:].dropna(), label='Channel 3')\n",
    "plt.xlabel('Time')\n",
    "plt.ylabel('Pressure')\n",
    "plt.title('All Channels Pressure Over Time (DL+3.623m)')\n",
    "plt.legend()\n",
    "plt.grid(True)\n",
    "plt.show()"
   ]
  },
  {
   "cell_type": "code",
   "execution_count": 6,
   "metadata": {},
   "outputs": [
    {
     "data": {
      "image/png": "[encoded data removed]",
      "text/plain": [
       "<Figure size 1200x600 with 1 Axes>"
      ]
     },
     "metadata": {},
     "output_type": "display_data"
    }
   ],
   "source": [
    "# Plot all three channels on the same graph\n",
    "plt.figure(figsize=(12, 6))\n",
    "plt.plot(df['DL(+)4.831m'][1:].dropna(), df['Unnamed: 6'][1:202201].dropna(), label='Channel 1')\n",
    "plt.plot(df['DL(+)4.831m'][1:].dropna(), df['Unnamed: 7'][1:202201].dropna(), label='Channel 2')\n",
    "plt.plot(df['DL(+)4.831m'][1:].dropna(), df['Unnamed: 8'][1:202201].dropna(), label='Channel 3')\n",
    "plt.xlabel('Time')\n",
    "plt.ylabel('Pressure')\n",
    "plt.title('All Channels Pressure Over Time (DL+4.831m)')\n",
    "plt.legend()\n",
    "plt.grid(True)\n",
    "plt.show()"
   ]
  },
  {
   "cell_type": "code",
   "execution_count": 7,
   "metadata": {},
   "outputs": [],
   "source": [
    "# Select the four columns\n",
    "selected_df = df[['DL(+)3.623m', 'Unnamed: 2', 'Unnamed: 3', 'Unnamed: 4']]\n",
    "\n",
    "# Optionally, if you need to remove NaN values and slice rows as before, apply those operations:\n",
    "selected_df = selected_df[1:].dropna()\n",
    "\n",
    "# Save to a new CSV file\n",
    "selected_df.to_csv('051-3623.csv', index=False)"
   ]
  },
  {
   "cell_type": "code",
   "execution_count": 8,
   "metadata": {},
   "outputs": [
    {
     "data": {
      "text/html": [
       "<div>\n",
       "<style scoped>\n",
       "    .dataframe tbody tr th:only-of-type {\n",
       "        vertical-align: middle;\n",
       "    }\n",
       "\n",
       "    .dataframe tbody tr th {\n",
       "        vertical-align: top;\n",
       "    }\n",
       "\n",
       "    .dataframe thead th {\n",
       "        text-align: right;\n",
       "    }\n",
       "</style>\n",
       "<table border=\"1\" class=\"dataframe\">\n",
       "  <thead>\n",
       "    <tr style=\"text-align: right;\">\n",
       "      <th></th>\n",
       "      <th>DL(+)3.623m</th>\n",
       "      <th>Unnamed: 2</th>\n",
       "      <th>Unnamed: 3</th>\n",
       "      <th>Unnamed: 4</th>\n",
       "    </tr>\n",
       "  </thead>\n",
       "  <tbody>\n",
       "    <tr>\n",
       "      <th>1</th>\n",
       "      <td>0</td>\n",
       "      <td>-0.030124</td>\n",
       "      <td>-0.359102</td>\n",
       "      <td>0.077374</td>\n",
       "    </tr>\n",
       "    <tr>\n",
       "      <th>2</th>\n",
       "      <td>0.044721</td>\n",
       "      <td>-0.545732</td>\n",
       "      <td>-0.270666</td>\n",
       "      <td>-0.369297</td>\n",
       "    </tr>\n",
       "    <tr>\n",
       "      <th>3</th>\n",
       "      <td>0.089443</td>\n",
       "      <td>-0.796538</td>\n",
       "      <td>0.436759</td>\n",
       "      <td>-0.065777</td>\n",
       "    </tr>\n",
       "    <tr>\n",
       "      <th>4</th>\n",
       "      <td>0.134164</td>\n",
       "      <td>-0.239149</td>\n",
       "      <td>-0.248556</td>\n",
       "      <td>-0.340659</td>\n",
       "    </tr>\n",
       "    <tr>\n",
       "      <th>5</th>\n",
       "      <td>0.178885</td>\n",
       "      <td>-0.039416</td>\n",
       "      <td>-0.237502</td>\n",
       "      <td>0.094556</td>\n",
       "    </tr>\n",
       "    <tr>\n",
       "      <th>...</th>\n",
       "      <td>...</td>\n",
       "      <td>...</td>\n",
       "      <td>...</td>\n",
       "      <td>...</td>\n",
       "    </tr>\n",
       "    <tr>\n",
       "      <th>248896</th>\n",
       "      <td>11130.922785</td>\n",
       "      <td>23.217626</td>\n",
       "      <td>17.612901</td>\n",
       "      <td>28.166184</td>\n",
       "    </tr>\n",
       "    <tr>\n",
       "      <th>248897</th>\n",
       "      <td>11130.967507</td>\n",
       "      <td>22.390848</td>\n",
       "      <td>18.032907</td>\n",
       "      <td>28.761769</td>\n",
       "    </tr>\n",
       "    <tr>\n",
       "      <th>248898</th>\n",
       "      <td>11131.012228</td>\n",
       "      <td>23.27802</td>\n",
       "      <td>17.955525</td>\n",
       "      <td>27.919939</td>\n",
       "    </tr>\n",
       "    <tr>\n",
       "      <th>248899</th>\n",
       "      <td>11131.056949</td>\n",
       "      <td>23.584574</td>\n",
       "      <td>17.966579</td>\n",
       "      <td>28.194822</td>\n",
       "    </tr>\n",
       "    <tr>\n",
       "      <th>248900</th>\n",
       "      <td>11131.101671</td>\n",
       "      <td>22.869262</td>\n",
       "      <td>17.259223</td>\n",
       "      <td>28.326553</td>\n",
       "    </tr>\n",
       "  </tbody>\n",
       "</table>\n",
       "<p>248900 rows × 4 columns</p>\n",
       "</div>"
      ],
      "text/plain": [
       "         DL(+)3.623m Unnamed: 2 Unnamed: 3 Unnamed: 4\n",
       "1                  0  -0.030124  -0.359102   0.077374\n",
       "2           0.044721  -0.545732  -0.270666  -0.369297\n",
       "3           0.089443  -0.796538   0.436759  -0.065777\n",
       "4           0.134164  -0.239149  -0.248556  -0.340659\n",
       "5           0.178885  -0.039416  -0.237502   0.094556\n",
       "...              ...        ...        ...        ...\n",
       "248896  11130.922785  23.217626  17.612901  28.166184\n",
       "248897  11130.967507  22.390848  18.032907  28.761769\n",
       "248898  11131.012228   23.27802  17.955525  27.919939\n",
       "248899  11131.056949  23.584574  17.966579  28.194822\n",
       "248900  11131.101671  22.869262  17.259223  28.326553\n",
       "\n",
       "[248900 rows x 4 columns]"
      ]
     },
     "execution_count": 8,
     "metadata": {},
     "output_type": "execute_result"
    }
   ],
   "source": [
    "selected_df"
   ]
  },
  {
   "cell_type": "code",
   "execution_count": 9,
   "metadata": {},
   "outputs": [],
   "source": [
    "# Select the four columns\n",
    "selected_df = df[['DL(+)4.831m', 'Unnamed: 6', 'Unnamed: 7', 'Unnamed: 8']]\n",
    "\n",
    "# Optionally, if you need to remove NaN values and slice rows as before, apply those operations:\n",
    "selected_df = selected_df[1:].dropna()\n",
    "\n",
    "# Save to a new CSV file\n",
    "selected_df.to_csv('051-4831.csv', index=False)"
   ]
  },
  {
   "cell_type": "code",
   "execution_count": 10,
   "metadata": {},
   "outputs": [
    {
     "data": {
      "text/html": [
       "<div>\n",
       "<style scoped>\n",
       "    .dataframe tbody tr th:only-of-type {\n",
       "        vertical-align: middle;\n",
       "    }\n",
       "\n",
       "    .dataframe tbody tr th {\n",
       "        vertical-align: top;\n",
       "    }\n",
       "\n",
       "    .dataframe thead th {\n",
       "        text-align: right;\n",
       "    }\n",
       "</style>\n",
       "<table border=\"1\" class=\"dataframe\">\n",
       "  <thead>\n",
       "    <tr style=\"text-align: right;\">\n",
       "      <th></th>\n",
       "      <th>DL(+)4.831m</th>\n",
       "      <th>Unnamed: 6</th>\n",
       "      <th>Unnamed: 7</th>\n",
       "      <th>Unnamed: 8</th>\n",
       "    </tr>\n",
       "  </thead>\n",
       "  <tbody>\n",
       "    <tr>\n",
       "      <th>1</th>\n",
       "      <td>0</td>\n",
       "      <td>0.310695</td>\n",
       "      <td>0.38013</td>\n",
       "      <td>-0.145961</td>\n",
       "    </tr>\n",
       "    <tr>\n",
       "      <th>2</th>\n",
       "      <td>0.044721</td>\n",
       "      <td>-0.444112</td>\n",
       "      <td>0.311039</td>\n",
       "      <td>0.237743</td>\n",
       "    </tr>\n",
       "    <tr>\n",
       "      <th>3</th>\n",
       "      <td>0.089443</td>\n",
       "      <td>-0.751813</td>\n",
       "      <td>-0.476514</td>\n",
       "      <td>0.363711</td>\n",
       "    </tr>\n",
       "    <tr>\n",
       "      <th>4</th>\n",
       "      <td>0.134164</td>\n",
       "      <td>0.444257</td>\n",
       "      <td>-0.379787</td>\n",
       "      <td>-0.535357</td>\n",
       "    </tr>\n",
       "    <tr>\n",
       "      <th>5</th>\n",
       "      <td>0.178885</td>\n",
       "      <td>-0.734392</td>\n",
       "      <td>0.186675</td>\n",
       "      <td>-0.546812</td>\n",
       "    </tr>\n",
       "    <tr>\n",
       "      <th>...</th>\n",
       "      <td>...</td>\n",
       "      <td>...</td>\n",
       "      <td>...</td>\n",
       "      <td>...</td>\n",
       "    </tr>\n",
       "    <tr>\n",
       "      <th>198496</th>\n",
       "      <td>8876.966264</td>\n",
       "      <td>21.375352</td>\n",
       "      <td>14.583036</td>\n",
       "      <td>30.103933</td>\n",
       "    </tr>\n",
       "    <tr>\n",
       "      <th>198497</th>\n",
       "      <td>8877.010985</td>\n",
       "      <td>20.028335</td>\n",
       "      <td>14.624491</td>\n",
       "      <td>30.089614</td>\n",
       "    </tr>\n",
       "    <tr>\n",
       "      <th>198498</th>\n",
       "      <td>8877.055707</td>\n",
       "      <td>21.369545</td>\n",
       "      <td>14.541581</td>\n",
       "      <td>30.025225</td>\n",
       "    </tr>\n",
       "    <tr>\n",
       "      <th>198499</th>\n",
       "      <td>8877.100428</td>\n",
       "      <td>20.905054</td>\n",
       "      <td>14.513945</td>\n",
       "      <td>29.874879</td>\n",
       "    </tr>\n",
       "    <tr>\n",
       "      <th>198500</th>\n",
       "      <td>8877.145149</td>\n",
       "      <td>21.236019</td>\n",
       "      <td>14.320576</td>\n",
       "      <td>30.068136</td>\n",
       "    </tr>\n",
       "  </tbody>\n",
       "</table>\n",
       "<p>198500 rows × 4 columns</p>\n",
       "</div>"
      ],
      "text/plain": [
       "        DL(+)4.831m Unnamed: 6 Unnamed: 7 Unnamed: 8\n",
       "1                 0   0.310695    0.38013  -0.145961\n",
       "2          0.044721  -0.444112   0.311039   0.237743\n",
       "3          0.089443  -0.751813  -0.476514   0.363711\n",
       "4          0.134164   0.444257  -0.379787  -0.535357\n",
       "5          0.178885  -0.734392   0.186675  -0.546812\n",
       "...             ...        ...        ...        ...\n",
       "198496  8876.966264  21.375352  14.583036  30.103933\n",
       "198497  8877.010985  20.028335  14.624491  30.089614\n",
       "198498  8877.055707  21.369545  14.541581  30.025225\n",
       "198499  8877.100428  20.905054  14.513945  29.874879\n",
       "198500  8877.145149  21.236019  14.320576  30.068136\n",
       "\n",
       "[198500 rows x 4 columns]"
      ]
     },
     "execution_count": 10,
     "metadata": {},
     "output_type": "execute_result"
    }
   ],
   "source": [
    "selected_df"
   ]
  }
 ],
 "metadata": {
  "kernelspec": {
   "display_name": "datasci-python312",
   "language": "python",
   "name": "python3"
  },
  "language_info": {
   "codemirror_mode": {
    "name": "ipython",
    "version": 3
   },
   "file_extension": ".py",
   "mimetype": "text/x-python",
   "name": "python",
   "nbconvert_exporter": "python",
   "pygments_lexer": "ipython3",
   "version": "3.9.20"
  }
 },
 "nbformat": 4,
 "nbformat_minor": 2
}
